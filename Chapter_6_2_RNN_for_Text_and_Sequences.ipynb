{
  "nbformat": 4,
  "nbformat_minor": 0,
  "metadata": {
    "colab": {
      "name": "Chapter 6-2: RNN for Text and Sequences.ipynb",
      "provenance": [],
      "collapsed_sections": [],
      "toc_visible": true,
      "authorship_tag": "ABX9TyOAYuJh0bsQFKYnbbt2lgkr",
      "include_colab_link": true
    },
    "kernelspec": {
      "name": "python3",
      "display_name": "Python 3"
    },
    "accelerator": "GPU"
  },
  "cells": [
    {
      "cell_type": "markdown",
      "metadata": {
        "id": "view-in-github",
        "colab_type": "text"
      },
      "source": [
        "<a href=\"https://colab.research.google.com/github/uditmanav17/DL-with-Python/blob/master/Chapter_6_2_RNN_for_Text_and_Sequences.ipynb\" target=\"_parent\"><img src=\"https://colab.research.google.com/assets/colab-badge.svg\" alt=\"Open In Colab\"/></a>"
      ]
    },
    {
      "cell_type": "markdown",
      "metadata": {
        "id": "DIQd5htwLgmg",
        "colab_type": "text"
      },
      "source": [
        "## 6.2 Understanding recurrent neural networks\n",
        "A major characteristic of all neural networks you’ve seen so far, such as densely connected networks and convnets, is that they have no memory. Each input shown to them is processed independently, with no state kept in between inputs. With such networks, in order to process a sequence or a temporal series of data points, you have to show the entire sequence to the network at once: turn it into a single data point. For instance, this is what you did in the IMDB example: an entire movie review was transformed into a single large vector and processed in one go. Such networks are called feedforward networks.\n",
        "\n",
        "In contrast, as you’re reading the present sentence, you’re processing it word by word—or rather, eye saccade by eye saccade—while keeping memories of what came before; this gives you a fluid representation of the meaning conveyed by this sentence. Biological intelligence processes information incrementally while maintaining an internal model of what it’s processing, built from past information and constantly updated as new information comes in.\n",
        "\n",
        "A recurrent neural network (RNN) adopts the same principle, albeit in an extremely simplified version: it processes sequences by iterating through the sequence elements and maintaining a state containing information relative to what it has seen so far. In effect, an RNN is a type of neural network that has an internal loop. The state of the RNN is reset between processing two different, independent sequences (such as two different IMDB reviews), so you still consider one sequence a single data point: a single input to the network. What changes is that this data point is no longer processed in a single step; rather, the network internally loops over sequence elements.\n",
        "\n",
        "To make these notions of loop and state clear, let’s implement the forward pass of a toy RNN in Numpy. This RNN takes as input a sequence of vectors, which you’ll encode as a 2D tensor of size (timesteps, input_features). It loops over timesteps, and at each timestep, it considers its current state at t and the input at t (of shape (input_ features,), and combines them to obtain the output at t. You’ll then set the state for the next step to be this previous output. For the first timestep, the previous output isn’t defined; hence, there is no current state. So, you’ll initialize the state as an allzero vector called the initial state of the network."
      ]
    },
    {
      "cell_type": "code",
      "metadata": {
        "id": "IFPZRR3ZLe_u",
        "colab_type": "code",
        "colab": {}
      },
      "source": [
        "# Numpy implementation of a simple RNN\n",
        "import numpy as np\n",
        "\n",
        "timesteps = 100  # number of timesteps in input sequence\n",
        "input_features = 32  # dimension of input features\n",
        "output_features = 64  # dimension of output features\n",
        "\n",
        "# random input generation \n",
        "inputs = np.random.random((timesteps, input_features))\n",
        "state_t = np.zeros((output_features,))\n",
        "\n",
        "# random weight matrix\n",
        "W = np.random.random((output_features, input_features))\n",
        "U = np.random.random((output_features, output_features))\n",
        "b = np.random.random((output_features,))\n",
        "\n",
        "successive_outputs = []\n",
        "\n",
        "for input_t in inputs:\n",
        "    output_t = np.tanh(np.dot(W, input_t) + np.dot(U, state_t) + b)\n",
        "    successive_outputs.append(output_t)\n",
        "    state_t = output_t\n",
        "\n",
        "final_output_sequence = np.concatenate(successive_outputs, axis=0)\n",
        "# successive_outputs"
      ],
      "execution_count": 0,
      "outputs": []
    },
    {
      "cell_type": "markdown",
      "metadata": {
        "id": "Jh_gD1VI9eJ0",
        "colab_type": "text"
      },
      "source": [
        "### 6.2.1 A recurrent layer in Keras\n",
        "The process you just naively implemented in Numpy corresponds to an actual Keras layer—the SimpleRNN layer. There is one minor difference: SimpleRNN processes batches of sequences, like all other Keras layers, not a single sequence as in the Numpy example. This means it takes inputs of shape (batch_size, timesteps, input_features), rather than (timesteps, input_features). \n",
        "\n",
        "Like all recurrent layers in Keras, SimpleRNN can be run in two different modes: it can return either the full sequences of successive outputs for each timestep (a 3D tensor of shape (batch_size, timesteps, output_features)) or only the last output for each input sequence (a 2D tensor of shape (batch_size, output_features)). These two modes are controlled by the return_sequences constructor argument. Let’s look at an example that uses SimpleRNN and returns only the output at the last timestep:"
      ]
    },
    {
      "cell_type": "code",
      "metadata": {
        "id": "dD5XhhunpzDZ",
        "colab_type": "code",
        "outputId": "522d28e2-ddb9-4fd2-8c35-abe6a654977c",
        "colab": {
          "base_uri": "https://localhost:8080/",
          "height": 256
        }
      },
      "source": [
        "from keras.models import Sequential\n",
        "from keras.layers import Embedding, SimpleRNN\n",
        "model = Sequential()\n",
        "model.add(Embedding(10000, 32))\n",
        "model.add(SimpleRNN(32))\n",
        "model.summary()"
      ],
      "execution_count": 0,
      "outputs": [
        {
          "output_type": "stream",
          "text": [
            "Using TensorFlow backend.\n"
          ],
          "name": "stderr"
        },
        {
          "output_type": "stream",
          "text": [
            "Model: \"sequential_1\"\n",
            "_________________________________________________________________\n",
            "Layer (type)                 Output Shape              Param #   \n",
            "=================================================================\n",
            "embedding_1 (Embedding)      (None, None, 32)          320000    \n",
            "_________________________________________________________________\n",
            "simple_rnn_1 (SimpleRNN)     (None, 32)                2080      \n",
            "=================================================================\n",
            "Total params: 322,080\n",
            "Trainable params: 322,080\n",
            "Non-trainable params: 0\n",
            "_________________________________________________________________\n"
          ],
          "name": "stdout"
        }
      ]
    },
    {
      "cell_type": "code",
      "metadata": {
        "id": "qsdOCbLo_Xhb",
        "colab_type": "code",
        "outputId": "68ba40ab-16e2-4737-bc2b-777f5ffb4948",
        "colab": {
          "base_uri": "https://localhost:8080/",
          "height": 237
        }
      },
      "source": [
        "# The following example returns the full state sequence:\n",
        "model = Sequential()\n",
        "model.add(Embedding(10000, 32))\n",
        "model.add(SimpleRNN(32, return_sequences=True))\n",
        "model.summary()"
      ],
      "execution_count": 0,
      "outputs": [
        {
          "output_type": "stream",
          "text": [
            "Model: \"sequential_2\"\n",
            "_________________________________________________________________\n",
            "Layer (type)                 Output Shape              Param #   \n",
            "=================================================================\n",
            "embedding_2 (Embedding)      (None, None, 32)          320000    \n",
            "_________________________________________________________________\n",
            "simple_rnn_2 (SimpleRNN)     (None, None, 32)          2080      \n",
            "=================================================================\n",
            "Total params: 322,080\n",
            "Trainable params: 322,080\n",
            "Non-trainable params: 0\n",
            "_________________________________________________________________\n"
          ],
          "name": "stdout"
        }
      ]
    },
    {
      "cell_type": "markdown",
      "metadata": {
        "id": "33P_-q-SBd55",
        "colab_type": "text"
      },
      "source": [
        "It’s sometimes useful to stack several recurrent layers one after the other in order to increase the representational power of a network. In such a setup, you have to get all of the intermediate layers to return full sequence of outputs"
      ]
    },
    {
      "cell_type": "code",
      "metadata": {
        "id": "MFoUFOfCBVG0",
        "colab_type": "code",
        "outputId": "b15044e9-7a86-41b6-d86c-62edc5546ac9",
        "colab": {
          "base_uri": "https://localhost:8080/",
          "height": 348
        }
      },
      "source": [
        "model = Sequential()\n",
        "model.add(Embedding(10000, 32))\n",
        "model.add(SimpleRNN(32, return_sequences=True))\n",
        "model.add(SimpleRNN(32, return_sequences=True))\n",
        "model.add(SimpleRNN(32, return_sequences=True))\n",
        "model.add(SimpleRNN(32))\n",
        "model.summary()"
      ],
      "execution_count": 0,
      "outputs": [
        {
          "output_type": "stream",
          "text": [
            "Model: \"sequential_3\"\n",
            "_________________________________________________________________\n",
            "Layer (type)                 Output Shape              Param #   \n",
            "=================================================================\n",
            "embedding_3 (Embedding)      (None, None, 32)          320000    \n",
            "_________________________________________________________________\n",
            "simple_rnn_3 (SimpleRNN)     (None, None, 32)          2080      \n",
            "_________________________________________________________________\n",
            "simple_rnn_4 (SimpleRNN)     (None, None, 32)          2080      \n",
            "_________________________________________________________________\n",
            "simple_rnn_5 (SimpleRNN)     (None, None, 32)          2080      \n",
            "_________________________________________________________________\n",
            "simple_rnn_6 (SimpleRNN)     (None, 32)                2080      \n",
            "=================================================================\n",
            "Total params: 328,320\n",
            "Trainable params: 328,320\n",
            "Non-trainable params: 0\n",
            "_________________________________________________________________\n"
          ],
          "name": "stdout"
        }
      ]
    },
    {
      "cell_type": "markdown",
      "metadata": {
        "id": "sHYJ53fzCF89",
        "colab_type": "text"
      },
      "source": [
        "Now, let’s use such a model on the IMDB movie-review-classification problem. First, preprocess the data."
      ]
    },
    {
      "cell_type": "code",
      "metadata": {
        "id": "E-sUPIHeBkrb",
        "colab_type": "code",
        "outputId": "a69cf36e-5b3e-4023-9a60-2c60ebcf5b24",
        "colab": {
          "base_uri": "https://localhost:8080/",
          "height": 164
        }
      },
      "source": [
        "from keras.datasets import imdb\n",
        "from keras.preprocessing import sequence\n",
        "\n",
        "max_features = 10000\n",
        "maxlen = 500\n",
        "batch_size = 32\n",
        "\n",
        "print('Loading data...')\n",
        "(input_train, y_train), (input_test, y_test) = imdb.load_data(num_words=max_features)\n",
        "\n",
        "print(len(input_train), 'train sequences')\n",
        "print(len(input_test), 'test sequences')\n",
        "print('Pad sequences (samples x time)')\n",
        "\n",
        "input_train = sequence.pad_sequences(input_train, maxlen=maxlen)\n",
        "input_test = sequence.pad_sequences(input_test, maxlen=maxlen)\n",
        "\n",
        "print('input_train shape:', input_train.shape)\n",
        "print('input_test shape:', input_test.shape)\n"
      ],
      "execution_count": 0,
      "outputs": [
        {
          "output_type": "stream",
          "text": [
            "Loading data...\n",
            "Downloading data from https://s3.amazonaws.com/text-datasets/imdb.npz\n",
            "17465344/17464789 [==============================] - 0s 0us/step\n",
            "25000 train sequences\n",
            "25000 test sequences\n",
            "Pad sequences (samples x time)\n",
            "input_train shape: (25000, 500)\n",
            "input_test shape: (25000, 500)\n"
          ],
          "name": "stdout"
        }
      ]
    },
    {
      "cell_type": "markdown",
      "metadata": {
        "id": "NjsRAKwdCY5l",
        "colab_type": "text"
      },
      "source": [
        "Let’s train a simple recurrent network using an Embedding layer and a SimpleRNN layer."
      ]
    },
    {
      "cell_type": "code",
      "metadata": {
        "id": "rek9dqlhCUT2",
        "colab_type": "code",
        "outputId": "ebe8b350-42a4-45ef-c612-8c5f866ef210",
        "colab": {
          "base_uri": "https://localhost:8080/",
          "height": 274
        }
      },
      "source": [
        "from keras.layers import Dense\n",
        "model = Sequential()\n",
        "model.add(Embedding(max_features, 32))\n",
        "model.add(SimpleRNN(32))\n",
        "model.add(Dense(1, activation='sigmoid'))\n",
        "model.compile(optimizer='rmsprop', loss='binary_crossentropy', metrics=['acc'])\n",
        "model.summary()"
      ],
      "execution_count": 0,
      "outputs": [
        {
          "output_type": "stream",
          "text": [
            "Model: \"sequential_4\"\n",
            "_________________________________________________________________\n",
            "Layer (type)                 Output Shape              Param #   \n",
            "=================================================================\n",
            "embedding_3 (Embedding)      (None, None, 32)          320000    \n",
            "_________________________________________________________________\n",
            "simple_rnn_2 (SimpleRNN)     (None, 32)                2080      \n",
            "_________________________________________________________________\n",
            "dense_1 (Dense)              (None, 1)                 33        \n",
            "=================================================================\n",
            "Total params: 322,113\n",
            "Trainable params: 322,113\n",
            "Non-trainable params: 0\n",
            "_________________________________________________________________\n"
          ],
          "name": "stdout"
        }
      ]
    },
    {
      "cell_type": "code",
      "metadata": {
        "id": "-WgwhHu2Chf1",
        "colab_type": "code",
        "outputId": "3c0fa630-6c6e-44bc-bbc9-bc4e94d8c44a",
        "colab": {
          "base_uri": "https://localhost:8080/",
          "height": 459
        }
      },
      "source": [
        "history = model.fit(input_train, y_train,\n",
        "                    epochs=10,\n",
        "                    batch_size=128,\n",
        "                    validation_split=0.2)"
      ],
      "execution_count": 0,
      "outputs": [
        {
          "output_type": "stream",
          "text": [
            "/usr/local/lib/python3.6/dist-packages/tensorflow/python/framework/indexed_slices.py:434: UserWarning: Converting sparse IndexedSlices to a dense Tensor of unknown shape. This may consume a large amount of memory.\n",
            "  \"Converting sparse IndexedSlices to a dense Tensor of unknown shape. \"\n"
          ],
          "name": "stderr"
        },
        {
          "output_type": "stream",
          "text": [
            "Train on 20000 samples, validate on 5000 samples\n",
            "Epoch 1/10\n",
            "20000/20000 [==============================] - 23s 1ms/step - loss: 0.6278 - acc: 0.6359 - val_loss: 0.5041 - val_acc: 0.7744\n",
            "Epoch 2/10\n",
            "20000/20000 [==============================] - 22s 1ms/step - loss: 0.3874 - acc: 0.8387 - val_loss: 0.4026 - val_acc: 0.8328\n",
            "Epoch 3/10\n",
            "20000/20000 [==============================] - 22s 1ms/step - loss: 0.3006 - acc: 0.8755 - val_loss: 0.3832 - val_acc: 0.8484\n",
            "Epoch 4/10\n",
            "20000/20000 [==============================] - 21s 1ms/step - loss: 0.2239 - acc: 0.9153 - val_loss: 0.5833 - val_acc: 0.7980\n",
            "Epoch 5/10\n",
            "20000/20000 [==============================] - 22s 1ms/step - loss: 0.1648 - acc: 0.9417 - val_loss: 0.4093 - val_acc: 0.8382\n",
            "Epoch 6/10\n",
            "20000/20000 [==============================] - 22s 1ms/step - loss: 0.1106 - acc: 0.9630 - val_loss: 0.4165 - val_acc: 0.8646\n",
            "Epoch 7/10\n",
            "20000/20000 [==============================] - 22s 1ms/step - loss: 0.0740 - acc: 0.9757 - val_loss: 0.5416 - val_acc: 0.8012\n",
            "Epoch 8/10\n",
            "20000/20000 [==============================] - 22s 1ms/step - loss: 0.0483 - acc: 0.9851 - val_loss: 0.5698 - val_acc: 0.8026\n",
            "Epoch 9/10\n",
            "20000/20000 [==============================] - 22s 1ms/step - loss: 0.0274 - acc: 0.9922 - val_loss: 0.5566 - val_acc: 0.8440\n",
            "Epoch 10/10\n",
            "20000/20000 [==============================] - 21s 1ms/step - loss: 0.0178 - acc: 0.9954 - val_loss: 0.6738 - val_acc: 0.8138\n"
          ],
          "name": "stdout"
        }
      ]
    },
    {
      "cell_type": "code",
      "metadata": {
        "id": "Vsb8mhqgCkp_",
        "colab_type": "code",
        "outputId": "bb342180-2334-49e0-ade3-16fd5dd5c7e9",
        "colab": {
          "base_uri": "https://localhost:8080/",
          "height": 545
        }
      },
      "source": [
        "# plotting results\n",
        "import matplotlib.pyplot as plt\n",
        "\n",
        "acc = history.history['acc']\n",
        "val_acc = history.history['val_acc']\n",
        "loss = history.history['loss']\n",
        "val_loss = history.history['val_loss']\n",
        "\n",
        "epochs = range(1, len(acc) + 1)\n",
        "\n",
        "plt.plot(epochs, acc, 'bo', label='Training acc')\n",
        "plt.plot(epochs, val_acc, 'b', label='Validation acc')\n",
        "plt.title('Training and validation accuracy')\n",
        "plt.legend()\n",
        "\n",
        "plt.figure()\n",
        "\n",
        "plt.plot(epochs, loss, 'bo', label='Training loss')\n",
        "plt.plot(epochs, val_loss, 'b', label='Validation loss')\n",
        "plt.title('Training and validation loss')\n",
        "plt.legend()\n",
        "plt.show()"
      ],
      "execution_count": 0,
      "outputs": [
        {
          "output_type": "display_data",
          "data": {
            "image/png": "[encoded data removed]",
            "text/plain": [
              "<Figure size 432x288 with 1 Axes>"
            ]
          },
          "metadata": {
            "tags": [],
            "needs_background": "light"
          }
        },
        {
          "output_type": "display_data",
          "data": {
            "image/png": "[encoded data removed]",
            "text/plain": [
              "<Figure size 432x288 with 1 Axes>"
            ]
          },
          "metadata": {
            "tags": [],
            "needs_background": "light"
          }
        }
      ]
    },
    {
      "cell_type": "markdown",
      "metadata": {
        "id": "eVlT4_aiDA6z",
        "colab_type": "text"
      },
      "source": [
        "The first naive approach to this dataset got you to a test accuracy of 88%. Unfortunately, this small recurrent network doesn’t perform well compared to this baseline (only 85% validation accuracy). Part of the problem is that your inputs only consider the first 500 words, rather than full sequences—hence, the RNN has access to less information than the earlier baseline model. The remainder of the problem is that SimpleRNN isn’t good at processing long sequences, such as text. Other types of recurrent layers perform much better. Let’s look at some moreadvanced layers."
      ]
    },
    {
      "cell_type": "markdown",
      "metadata": {
        "id": "q2ce7ECQDQTN",
        "colab_type": "text"
      },
      "source": [
        "### 6.2.2 Understanding the LSTM and GRU layers\n",
        "SimpleRNN isn’t the only recurrent layer available in Keras. There are two others: LSTM and GRU. In practice, you’ll always use one of these, because SimpleRNN is generally too simplistic to be of real use. SimpleRNN has a major issue: although it should theoretically be able to retain at time t information about inputs seen many timesteps before, in practice, such long-term dependencies are impossible to learn. This is due to the vanishing gradient problem, an effect that is similar to what is observed with non-recurrent networks (feedforward networks) that are many layers deep: as you keep adding layers to a network, the network eventually becomes untrainable. The theoretical reasons for this effect were studied by Hochreiter, Schmidhuber, and Bengio in the early 1990s. The LSTM and GRU layers are designed to solve this problem.\n",
        " \n",
        "Let’s consider the LSTM layer. The underlying Long Short-Term Memory (LSTM) algorithm was developed by Hochreiter and Schmidhuber in 1997; it was the culmination of their research on the vanishing gradient problem.\n",
        "\n",
        "This layer is a variant of the SimpleRNN layer you already know about; it adds a way to carry information across many timesteps. Imagine a conveyor belt running parallel to the sequence you’re processing. Information from the sequence can jump onto the conveyor belt at any point, be transported to a later timestep, and jump off, intact, when you need it. This is essentially what LSTM does: it saves information for later, thus preventing older signals from gradually vanishing during processing.\n",
        "\n",
        "[A lot is skipped here, better refer to book page 204]()"
      ]
    },
    {
      "cell_type": "markdown",
      "metadata": {
        "id": "FdxOstfXIVII",
        "colab_type": "text"
      },
      "source": [
        "### 6.2.3 A concrete LSTM example in Keras\n",
        "Now let’s switch to more practical concerns: you’ll set up a model using an LSTM layer and train it on the IMDB data. The network is similar to the one with SimpleRNN that was just presented. You only specify the output dimensionality of the LSTM layer; leave every other argument (there are many) at the Keras defaults. Keras has good defaults, and things will almost always “just work” without you having to spend time tuning parameters by hand."
      ]
    },
    {
      "cell_type": "code",
      "metadata": {
        "id": "V1TL8NFyCzM-",
        "colab_type": "code",
        "colab": {}
      },
      "source": [
        "# using LSTM layer in keras\n",
        "from keras.layers import LSTM\n",
        "\n",
        "model = Sequential()\n",
        "model.add(Embedding(max_features, 32))\n",
        "model.add(LSTM(32))\n",
        "model.add(Dense(1, activation='sigmoid'))\n",
        "\n",
        "model.compile(optimizer='rmsprop',\n",
        "              loss='binary_crossentropy',\n",
        "              metrics=['acc'])\n",
        "\n",
        "model.summary()"
      ],
      "execution_count": 0,
      "outputs": []
    },
    {
      "cell_type": "code",
      "metadata": {
        "id": "DpD8PH-SJZk1",
        "colab_type": "code",
        "outputId": "4a30291f-011e-4709-9fcb-4305167db40d",
        "colab": {
          "base_uri": "https://localhost:8080/",
          "height": 459
        }
      },
      "source": [
        "history = model.fit(input_train, y_train,\n",
        "epochs=10,\n",
        "batch_size=128,\n",
        "validation_split=0.2)"
      ],
      "execution_count": 0,
      "outputs": [
        {
          "output_type": "stream",
          "text": [
            "/usr/local/lib/python3.6/dist-packages/tensorflow/python/framework/indexed_slices.py:434: UserWarning: Converting sparse IndexedSlices to a dense Tensor of unknown shape. This may consume a large amount of memory.\n",
            "  \"Converting sparse IndexedSlices to a dense Tensor of unknown shape. \"\n"
          ],
          "name": "stderr"
        },
        {
          "output_type": "stream",
          "text": [
            "Train on 20000 samples, validate on 5000 samples\n",
            "Epoch 1/10\n",
            "20000/20000 [==============================] - 64s 3ms/step - loss: 0.4991 - acc: 0.7667 - val_loss: 0.7757 - val_acc: 0.6850\n",
            "Epoch 2/10\n",
            "20000/20000 [==============================] - 63s 3ms/step - loss: 0.2979 - acc: 0.8853 - val_loss: 0.3388 - val_acc: 0.8594\n",
            "Epoch 3/10\n",
            "20000/20000 [==============================] - 63s 3ms/step - loss: 0.2354 - acc: 0.9103 - val_loss: 0.3808 - val_acc: 0.8530\n",
            "Epoch 4/10\n",
            "20000/20000 [==============================] - 63s 3ms/step - loss: 0.2008 - acc: 0.9268 - val_loss: 0.2960 - val_acc: 0.8896\n",
            "Epoch 5/10\n",
            "20000/20000 [==============================] - 63s 3ms/step - loss: 0.1827 - acc: 0.9339 - val_loss: 0.3426 - val_acc: 0.8806\n",
            "Epoch 6/10\n",
            "20000/20000 [==============================] - 62s 3ms/step - loss: 0.1607 - acc: 0.9422 - val_loss: 0.3409 - val_acc: 0.8720\n",
            "Epoch 7/10\n",
            "20000/20000 [==============================] - 62s 3ms/step - loss: 0.1416 - acc: 0.9509 - val_loss: 0.3763 - val_acc: 0.8840\n",
            "Epoch 8/10\n",
            "20000/20000 [==============================] - 62s 3ms/step - loss: 0.1348 - acc: 0.9528 - val_loss: 0.4321 - val_acc: 0.8552\n",
            "Epoch 9/10\n",
            "20000/20000 [==============================] - 62s 3ms/step - loss: 0.1227 - acc: 0.9586 - val_loss: 0.3388 - val_acc: 0.8874\n",
            "Epoch 10/10\n",
            "20000/20000 [==============================] - 62s 3ms/step - loss: 0.1136 - acc: 0.9611 - val_loss: 0.4489 - val_acc: 0.8442\n"
          ],
          "name": "stdout"
        }
      ]
    },
    {
      "cell_type": "code",
      "metadata": {
        "id": "fg2i2PS4MUEJ",
        "colab_type": "code",
        "outputId": "7d930e3f-3d74-422d-9470-496184b9f21b",
        "colab": {
          "base_uri": "https://localhost:8080/",
          "height": 545
        }
      },
      "source": [
        "# plotting results\n",
        "import matplotlib.pyplot as plt\n",
        "\n",
        "acc = history.history['acc']\n",
        "val_acc = history.history['val_acc']\n",
        "loss = history.history['loss']\n",
        "val_loss = history.history['val_loss']\n",
        "\n",
        "epochs = range(1, len(acc) + 1)\n",
        "\n",
        "plt.plot(epochs, acc, 'bo', label='Training acc')\n",
        "plt.plot(epochs, val_acc, 'b', label='Validation acc')\n",
        "plt.title('Training and validation accuracy')\n",
        "plt.legend()\n",
        "\n",
        "plt.figure()\n",
        "\n",
        "plt.plot(epochs, loss, 'bo', label='Training loss')\n",
        "plt.plot(epochs, val_loss, 'b', label='Validation loss')\n",
        "plt.title('Training and validation loss')\n",
        "plt.legend()\n",
        "plt.show()"
      ],
      "execution_count": 0,
      "outputs": [
        {
          "output_type": "display_data",
          "data": {
            "image/png": "[encoded data removed]",
            "text/plain": [
              "<Figure size 432x288 with 1 Axes>"
            ]
          },
          "metadata": {
            "tags": [],
            "needs_background": "light"
          }
        },
        {
          "output_type": "display_data",
          "data": {
            "image/png": "[encoded data removed]",
            "text/plain": [
              "<Figure size 432x288 with 1 Axes>"
            ]
          },
          "metadata": {
            "tags": [],
            "needs_background": "light"
          }
        }
      ]
    },
    {
      "cell_type": "markdown",
      "metadata": {
        "id": "Anyf1pn-KCCD",
        "colab_type": "text"
      },
      "source": [
        "This time, you achieve up to 89% validation accuracy. Not bad: certainly much better than the SimpleRNN network—that’s largely because LSTM suffers much less from the vanishing-gradient problem—and slightly better than the fully connected approach from chapter 3, even though you’re looking at less data than you were in chapter 3. You’re truncating sequences after 500 timesteps, whereas in chapter 3, you were considering full sequences.\n",
        "\n",
        "But this result isn’t groundbreaking for such a computationally intensive approach. Why isn’t LSTM performing better? One reason is that you made no effort to tune hyperparameters such as the embeddings dimensionality or the LSTM output dimensionality. Another may be lack of regularization. But honestly, the primary reason is that analyzing the global, long-term structure of the reviews (what LSTM is good at) isn’t helpful for a sentiment-analysis problem. Such a basic problem is well solved by looking at what words occur in each review, and at what frequency. That’s what the first fully connected approach looked at. But there are far more difficult naturallanguage-processing problems out there, where the strength of LSTM will become apparent: in particular, question-answering and machine translation. "
      ]
    },
    {
      "cell_type": "markdown",
      "metadata": {
        "id": "rkaCr12eKEJF",
        "colab_type": "text"
      },
      "source": [
        "### 6.2.4 Wrapping up\n",
        "Now you understand the following:\n",
        "* What RNNs are and how they work\n",
        "* What LSTM is, and why it works better on long sequences than a naive RNN\n",
        "* How to use Keras RNN layers to process sequence data\n",
        "\n",
        "Next, we’ll review a number of more advanced features of RNNs, which can help you get the most out of your deep-learning sequence models."
      ]
    }
  ]
}