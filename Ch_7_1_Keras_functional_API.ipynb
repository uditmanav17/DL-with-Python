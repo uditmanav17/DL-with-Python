{
  "nbformat": 4,
  "nbformat_minor": 0,
  "metadata": {
    "colab": {
      "name": "Ch 7-1: Keras functional API.ipynb",
      "provenance": [],
      "collapsed_sections": [],
      "toc_visible": true,
      "authorship_tag": "ABX9TyNkmXxYQG1wpe3CAs6bsTcr",
      "include_colab_link": true
    },
    "kernelspec": {
      "name": "python3",
      "display_name": "Python 3"
    },
    "accelerator": "GPU"
  },
  "cells": [
    {
      "cell_type": "markdown",
      "metadata": {
        "id": "view-in-github",
        "colab_type": "text"
      },
      "source": [
        "<a href=\"https://colab.research.google.com/github/uditmanav17/DL-with-Python/blob/master/Ch_7_1_Keras_functional_API.ipynb\" target=\"_parent\"><img src=\"https://colab.research.google.com/assets/colab-badge.svg\" alt=\"Open In Colab\"/></a>"
      ]
    },
    {
      "cell_type": "markdown",
      "metadata": {
        "id": "eylPXI_0m-e2",
        "colab_type": "text"
      },
      "source": [
        "## 7.1 Going beyond the Sequential model: the Keras functional API\n",
        "Until now, all neural networks introduced in this book have been implemented using the Sequential model. The Sequential model makes the assumption that the network has exactly one input and exactly one output, and that it consists of a linear stack of layers.\n",
        "\n",
        "This is a commonly verified assumption; the configuration is so common that we’ve been able to cover many topics and practical applications in these pages so far using only the Sequential model class. But this set of assumptions is too inflexible in a number of cases. Some networks require several independent inputs, others require multiple outputs, and some networks have internal branching between layers that makes them look like graphs of layers rather than linear stacks of layers.\n",
        " \n",
        "Some tasks, for instance, require multimodal inputs: they merge data coming from different input sources, processing each type of data using different kinds of neural layers. Imagine a deep-learning model trying to predict the most likely market price of a second-hand piece of clothing, using the following inputs: user-provided metadata (such as the item’s brand, age, and so on), a user-provided text description, and a picture of the item. If you had only the metadata available, you could one-hot encode it and use a densely connected network to predict the price. If you had only the text description available, you could use an RNN or a 1D convnet. If you had only the picture, you could use a 2D convnet. But how can you use all three at the same time? A naive approach would be to train three separate models and then do a weighted average of their predictions. But this may be suboptimal, because the information extracted by the models may be redundant. A better way is to jointly learn a more accurate model of the data by using a model that can see all available input modalities simultaneously: a model with three input branches.\n",
        "\n",
        "Similarly, some tasks need to predict multiple target attributes of input data. Given the text of a novel or short story, you might want to automatically classify it by genre (such as romance or thriller) but also predict the approximate date it was written. Of course, you could train two separate models: one for the genre and one for the date. But because these attributes aren’t statistically independent, you could build a better model by learning to jointly predict both genre and date at the same time. Such a joint model would then have two outputs, or heads. Due to correlations between genre and date, knowing the date of a novel would help the model learn rich, accurate representations of the space of novel genres, and vice versa.\n",
        "\n",
        "Additionally, many recently developed neural architectures require nonlinear network topology: networks structured as directed acyclic graphs. The Inception family of networks (developed by Szegedy et al. at Google), for instance, relies on Inception modules, where the input is processed by several parallel convolutional branches whose outputs are then merged back into a single tensor. There’s also the recent trend of adding residual connections to a model, which started with the ResNet family of networks (developed by He et al. at Microsoft). A residual connection consists of reinjecting previous representations into the downstream flow of data by adding a past output tensor to a later output tensor, which helps prevent information loss along the data-processing flow. There are many other examples of such graph-like networks.\n",
        "\n",
        "These three important use cases—multi-input models, multi-output models, and graph-like models—aren’t possible when using only the Sequential model class in Keras. But there’s another far more general and flexible way to use Keras: the functional API. This section explains in detail what it is, what it can do, and how to use it."
      ]
    },
    {
      "cell_type": "markdown",
      "metadata": {
        "id": "86sQhqowpTmJ",
        "colab_type": "text"
      },
      "source": [
        "### 7.1.1 Introduction to the functional API\n",
        "In the functional API, you directly manipulate tensors, and you use layers as functions that take tensors and return tensors (hence, the name functional API):\n",
        "```\n",
        "from keras import Input, layers\n",
        "input_tensor = Input(shape=(32,))  # tensor\n",
        "dense = layers.Dense(32, activation='relu')  # layer function\n",
        "output_tensor = dense(input_tensor)  # A layer may be called on a tensor, and it returns a tensor\n",
        "```\n",
        "Let’s start with a minimal example that shows side by side a simple Sequential model and its equivalent in the functional API:\n"
      ]
    },
    {
      "cell_type": "code",
      "metadata": {
        "id": "1RSIrdSql0gK",
        "colab_type": "code",
        "colab": {
          "base_uri": "https://localhost:8080/",
          "height": 378
        },
        "outputId": "30c9887f-3ba5-492b-c0d2-f7d5bf176d98"
      },
      "source": [
        "import tensorflow as tf\n",
        "from keras.models import Sequential, Model\n",
        "from keras import layers\n",
        "from keras import Input\n",
        "\n",
        "# sequential model\n",
        "seq_model = Sequential()\n",
        "seq_model.add(layers.Dense(32, activation='relu', input_shape=(64,)))\n",
        "seq_model.add(layers.Dense(32, activation='relu'))\n",
        "seq_model.add(layers.Dense(10, activation='softmax'))\n",
        "seq_model.summary()\n",
        "tf.keras.utils.plot_model(\n",
        "    seq_model, \n",
        "    # to_file='model.png', \n",
        "    show_shapes=True, \n",
        "    show_layer_names=False,\n",
        "    rankdir='LR', # LR TB\n",
        "    expand_nested=True, \n",
        "    dpi=96\n",
        ")"
      ],
      "execution_count": 7,
      "outputs": [
        {
          "output_type": "stream",
          "text": [
            "Model: \"sequential_4\"\n",
            "_________________________________________________________________\n",
            "Layer (type)                 Output Shape              Param #   \n",
            "=================================================================\n",
            "dense_16 (Dense)             (None, 32)                2080      \n",
            "_________________________________________________________________\n",
            "dense_17 (Dense)             (None, 32)                1056      \n",
            "_________________________________________________________________\n",
            "dense_18 (Dense)             (None, 10)                330       \n",
            "=================================================================\n",
            "Total params: 3,466\n",
            "Trainable params: 3,466\n",
            "Non-trainable params: 0\n",
            "_________________________________________________________________\n"
          ],
          "name": "stdout"
        },
        {
          "output_type": "execute_result",
          "data": {
            "image/png": "[encoded data removed]",
            "text/plain": [
              "<IPython.core.display.Image object>"
            ]
          },
          "metadata": {
            "tags": []
          },
          "execution_count": 7
        }
      ]
    },
    {
      "cell_type": "code",
      "metadata": {
        "id": "wKJHmiQZyLDa",
        "colab_type": "code",
        "colab": {
          "base_uri": "https://localhost:8080/",
          "height": 415
        },
        "outputId": "60b5218e-3ae7-4d69-88c9-87b17b623be4"
      },
      "source": [
        "# functional equivalent\n",
        "input_tensor = Input(shape=(64,))\n",
        "x = layers.Dense(32, activation='relu')(input_tensor)\n",
        "x = layers.Dense(32, activation='relu')(x)\n",
        "output_tensor = layers.Dense(10, activation='softmax')(x)\n",
        "model = Model(input_tensor, output_tensor)\n",
        "model.summary()\n",
        "tf.keras.utils.plot_model(\n",
        "    model, \n",
        "    # to_file='model.png', \n",
        "    show_shapes=True, \n",
        "    show_layer_names=False,\n",
        "    rankdir='LR', # LR TB\n",
        "    expand_nested=True, \n",
        "    dpi=96\n",
        ")"
      ],
      "execution_count": 8,
      "outputs": [
        {
          "output_type": "stream",
          "text": [
            "Model: \"model_4\"\n",
            "_________________________________________________________________\n",
            "Layer (type)                 Output Shape              Param #   \n",
            "=================================================================\n",
            "input_4 (InputLayer)         (None, 64)                0         \n",
            "_________________________________________________________________\n",
            "dense_19 (Dense)             (None, 32)                2080      \n",
            "_________________________________________________________________\n",
            "dense_20 (Dense)             (None, 32)                1056      \n",
            "_________________________________________________________________\n",
            "dense_21 (Dense)             (None, 10)                330       \n",
            "=================================================================\n",
            "Total params: 3,466\n",
            "Trainable params: 3,466\n",
            "Non-trainable params: 0\n",
            "_________________________________________________________________\n"
          ],
          "name": "stdout"
        },
        {
          "output_type": "execute_result",
          "data": {
            "image/png": "[encoded data removed]",
            "text/plain": [
              "<IPython.core.display.Image object>"
            ]
          },
          "metadata": {
            "tags": []
          },
          "execution_count": 8
        }
      ]
    },
    {
      "cell_type": "markdown",
      "metadata": {
        "id": "oS7IKkMWrAfW",
        "colab_type": "text"
      },
      "source": [
        "The only part that may seem a bit magical at this point is instantiating a Model object using only an input tensor and an output tensor. Behind the scenes, Keras retrieves every layer involved in going from input_tensor to output_tensor, bringing them together into a graph-like data structure—a Model. Of course, the reason it works is that output_tensor was obtained by repeatedly transforming input_tensor. If you tried to build a model from inputs and outputs that weren’t related, you’d get a RuntimeError:\n",
        "```\n",
        "unrelated_input = Input(shape=(32,))\n",
        "bad_model = model = Model(unrelated_input, output_tensor)\n",
        "```\n",
        "```\n",
        "ValueError: Graph disconnected: cannot obtain value for tensor Tensor(\"input_1:0\", shape=(None, 64), dtype=float32) at layer \"input_1\". The following previous layers were accessed without issue: []\n",
        "```\n",
        "This error tells you, in essence, that Keras couldn’t reach input_1 from the provided output tensor. When it comes to compiling, training, or evaluating such an instance of Model, the API is the same as that of Sequential:\n"
      ]
    },
    {
      "cell_type": "code",
      "metadata": {
        "id": "6d6fJ1NGrH4m",
        "colab_type": "code",
        "colab": {
          "base_uri": "https://localhost:8080/",
          "height": 421
        },
        "outputId": "7421b6b3-820a-4944-f3da-887b5e171f1a"
      },
      "source": [
        "model.compile(optimizer='rmsprop', loss='categorical_crossentropy') # compiles model\n",
        "\n",
        "# dummy data\n",
        "import numpy as np\n",
        "x_train = np.random.random((1000, 64))\n",
        "y_train = np.random.random((1000, 10))\n",
        "\n",
        "# train and eval model \n",
        "model.fit(x_train, y_train, epochs=10, batch_size=128)\n",
        "score = model.evaluate(x_train, y_train)\n",
        "print(score)"
      ],
      "execution_count": 4,
      "outputs": [
        {
          "output_type": "stream",
          "text": [
            "Epoch 1/10\n",
            "1000/1000 [==============================] - 0s 71us/step - loss: 46.1874\n",
            "Epoch 2/10\n",
            "1000/1000 [==============================] - 0s 15us/step - loss: 53.0567\n",
            "Epoch 3/10\n",
            "1000/1000 [==============================] - 0s 14us/step - loss: 58.1776\n",
            "Epoch 4/10\n",
            "1000/1000 [==============================] - 0s 14us/step - loss: 62.9456\n",
            "Epoch 5/10\n",
            "1000/1000 [==============================] - 0s 14us/step - loss: 67.7849\n",
            "Epoch 6/10\n",
            "1000/1000 [==============================] - 0s 13us/step - loss: 72.3573\n",
            "Epoch 7/10\n",
            "1000/1000 [==============================] - 0s 14us/step - loss: 77.0209\n",
            "Epoch 8/10\n",
            "1000/1000 [==============================] - 0s 14us/step - loss: 82.5407\n",
            "Epoch 9/10\n",
            "1000/1000 [==============================] - 0s 14us/step - loss: 87.4749\n",
            "Epoch 10/10\n",
            "1000/1000 [==============================] - 0s 14us/step - loss: 92.6381\n",
            "1000/1000 [==============================] - 0s 36us/step\n",
            "95.75782995605469\n"
          ],
          "name": "stdout"
        }
      ]
    },
    {
      "cell_type": "markdown",
      "metadata": {
        "id": "xHmTNymhtnp7",
        "colab_type": "text"
      },
      "source": [
        "### 7.1.2 Multi-input models\n",
        "The functional API can be used to build models that have multiple inputs. Typically, such models at some point merge their different input branches using a layer that can combine several tensors: by adding them, concatenating them, and so on. This is usually done via a Keras merge operation such as keras.layers.add, keras.layers .concatenate, and so on. Let’s look at a very simple example of a multi-input model: a question-answering model.\n",
        "\n",
        "A typical question-answering model has two inputs: a natural-language question and a text snippet (such as a news article) providing information to be used for answering the question. The model must then produce an answer: in the simplest possible setup, this is a one-word answer obtained via a softmax over some predefined vocabulary.\n",
        "\n",
        "Following is an example of how you can build such a model with the functional API. You set up two independent branches, encoding the text input and the question input as representation vectors; then, concatenate these vectors; and finally, add a softmax classifier on top of the concatenated representations. \n"
      ]
    },
    {
      "cell_type": "code",
      "metadata": {
        "id": "Z6IFpME8sCKm",
        "colab_type": "code",
        "colab": {
          "base_uri": "https://localhost:8080/",
          "height": 685
        },
        "outputId": "9f4121d2-78bd-4fcc-d0b9-fff36ca31dc9"
      },
      "source": [
        "# Functional API implementation of a two-input question-answering model\n",
        "from keras.models import Model\n",
        "from keras import layers\n",
        "from keras import Input\n",
        "import tensorflow as tf\n",
        "\n",
        "text_vocabulary_size = 10000\n",
        "question_vocabulary_size = 10000\n",
        "answer_vocabulary_size = 500\n",
        "\n",
        "# The text input is a variablelength sequence of integers. Note that you can optionally name the inputs.\n",
        "text_input = Input(shape=(None,), dtype='int32', name='text')\n",
        "\n",
        "# Embeds the inputs into a sequence of vectors of size 64\n",
        "embedded_text = layers.Embedding(64, text_vocabulary_size)(text_input)\n",
        "\n",
        "# Encodes the vectors in a single vector via an LSTM\n",
        "encoded_text = layers.LSTM(32)(embedded_text)\n",
        "\n",
        "question_input = Input(shape=(None,),dtype='int32',name='question')\n",
        "embedded_question = layers.Embedding(32, question_vocabulary_size)(question_input)\n",
        "encoded_question = layers.LSTM(16)(embedded_question)\n",
        "\n",
        "# Concatenates the encoded question and encoded text\n",
        "concatenated = layers.concatenate([encoded_text, encoded_question],axis=-1)\n",
        "\n",
        "# Adds a softmax classifier on top\n",
        "answer = layers.Dense(answer_vocabulary_size,activation='softmax')(concatenated)\n",
        "\n",
        "# At model instantiation, you specify the two inputs and the output.\n",
        "model = Model([text_input, question_input], answer)\n",
        "model.compile(optimizer='rmsprop',\n",
        "loss='categorical_crossentropy',\n",
        "metrics=['acc'])\n",
        "model.summary()\n",
        "\n",
        "tf.keras.utils.plot_model(\n",
        "    model, \n",
        "    # to_file='model.png', \n",
        "    show_shapes=True, \n",
        "    show_layer_names=False,\n",
        "    rankdir='LR', # LR TB\n",
        "    expand_nested=True, \n",
        "    # dpi=96\n",
        ")"
      ],
      "execution_count": 1,
      "outputs": [
        {
          "output_type": "stream",
          "text": [
            "Using TensorFlow backend.\n"
          ],
          "name": "stderr"
        },
        {
          "output_type": "stream",
          "text": [
            "Model: \"model_1\"\n",
            "__________________________________________________________________________________________________\n",
            "Layer (type)                    Output Shape         Param #     Connected to                     \n",
            "==================================================================================================\n",
            "text (InputLayer)               (None, None)         0                                            \n",
            "__________________________________________________________________________________________________\n",
            "question (InputLayer)           (None, None)         0                                            \n",
            "__________________________________________________________________________________________________\n",
            "embedding_1 (Embedding)         (None, None, 10000)  640000      text[0][0]                       \n",
            "__________________________________________________________________________________________________\n",
            "embedding_2 (Embedding)         (None, None, 10000)  320000      question[0][0]                   \n",
            "__________________________________________________________________________________________________\n",
            "lstm_1 (LSTM)                   (None, 32)           1284224     embedding_1[0][0]                \n",
            "__________________________________________________________________________________________________\n",
            "lstm_2 (LSTM)                   (None, 16)           641088      embedding_2[0][0]                \n",
            "__________________________________________________________________________________________________\n",
            "concatenate_1 (Concatenate)     (None, 48)           0           lstm_1[0][0]                     \n",
            "                                                                 lstm_2[0][0]                     \n",
            "__________________________________________________________________________________________________\n",
            "dense_1 (Dense)                 (None, 500)          24500       concatenate_1[0][0]              \n",
            "==================================================================================================\n",
            "Total params: 2,909,812\n",
            "Trainable params: 2,909,812\n",
            "Non-trainable params: 0\n",
            "__________________________________________________________________________________________________\n"
          ],
          "name": "stdout"
        },
        {
          "output_type": "execute_result",
          "data": {
            "image/png": "[encoded data removed]",
            "text/plain": [
              "<IPython.core.display.Image object>"
            ]
          },
          "metadata": {
            "tags": []
          },
          "execution_count": 1
        }
      ]
    },
    {
      "cell_type": "markdown",
      "metadata": {
        "id": "Zpfaa5CIz4pK",
        "colab_type": "text"
      },
      "source": [
        "Now, how do you train this two-input model? There are two possible APIs: you can feed the model a list of Numpy arrays as inputs, or you can feed it a dictionary that maps input names to Numpy arrays. Naturally, the latter option is available only if you give names to your inputs."
      ]
    },
    {
      "cell_type": "code",
      "metadata": {
        "id": "D6Q8eJuMzwRb",
        "colab_type": "code",
        "colab": {
          "base_uri": "https://localhost:8080/",
          "height": 458
        },
        "outputId": "59c3ca13-ccb4-4225-e1fe-e30d20e4c502"
      },
      "source": [
        "# Feeding data to a multi-input model\n",
        "import numpy as np\n",
        "\n",
        "num_samples = 1000\n",
        "max_length = 100\n",
        "\n",
        "text = np.random.randint(1, text_vocabulary_size,  # generates dummy numpy data\n",
        "                         size=(num_samples, max_length))\n",
        "print(f\"text - {text}\")\n",
        "print(f\"text shape - {text.shape}\")\n",
        "question = np.random.randint(1, question_vocabulary_size,\n",
        "                             size=(num_samples, max_length))\n",
        "print(f\"question - {question}\")\n",
        "print(f\"question shape - {question.shape}\")\n",
        "answers = np.random.randint(0, 1, # answers are one-hot encoded, not integers\n",
        "                            size=(num_samples, answer_vocabulary_size))\n",
        "print(f\"answers - {answers}\")\n",
        "print(f\"answers shape - {answers.shape}\")"
      ],
      "execution_count": 2,
      "outputs": [
        {
          "output_type": "stream",
          "text": [
            "text - [[8028 7254 4699 ... 3972 3896 3670]\n",
            " [1199 8739 6391 ... 8552 3207 1698]\n",
            " [8436  267  127 ... 1486 8214 7230]\n",
            " ...\n",
            " [3207 8518 2552 ... 3844 9790 7794]\n",
            " [8768 5408 7968 ... 4364 6512 7768]\n",
            " [7383 7800 5389 ... 4721 3307 1868]]\n",
            "text shape - (1000, 100)\n",
            "question - [[8043 6704 6550 ... 8436 6677 2294]\n",
            " [8946 6821 7466 ... 9553 6814  378]\n",
            " [6088 3388 7022 ... 3808 8844 8132]\n",
            " ...\n",
            " [4650 4046 3046 ... 4713 7681 2421]\n",
            " [1501 9023 8011 ... 7393 1723 2589]\n",
            " [9500 6028 5966 ... 2553 2331  231]]\n",
            "question shape - (1000, 100)\n",
            "answers - [[0 0 0 ... 0 0 0]\n",
            " [0 0 0 ... 0 0 0]\n",
            " [0 0 0 ... 0 0 0]\n",
            " ...\n",
            " [0 0 0 ... 0 0 0]\n",
            " [0 0 0 ... 0 0 0]\n",
            " [0 0 0 ... 0 0 0]]\n",
            "answers shape - (1000, 500)\n"
          ],
          "name": "stdout"
        }
      ]
    },
    {
      "cell_type": "code",
      "metadata": {
        "id": "Z3qZhEAA1s6D",
        "colab_type": "code",
        "colab": {
          "base_uri": "https://localhost:8080/",
          "height": 459
        },
        "outputId": "564f033a-d2df-48a5-9137-d6764b2b01ff"
      },
      "source": [
        "# fitting using list of inputs\n",
        "model.fit([text, question], answers, epochs=10, batch_size=128)\n",
        "\n",
        "# Fitting using a dictionary of inputs (only if inputs are named)\n",
        "# model.fit({'text': text, 'question': question}, \n",
        "#           answers,\n",
        "#           epochs=10, \n",
        "#           batch_size=128)"
      ],
      "execution_count": 4,
      "outputs": [
        {
          "output_type": "stream",
          "text": [
            "/usr/local/lib/python3.6/dist-packages/tensorflow/python/framework/indexed_slices.py:434: UserWarning: Converting sparse IndexedSlices to a dense Tensor of unknown shape. This may consume a large amount of memory.\n",
            "  \"Converting sparse IndexedSlices to a dense Tensor of unknown shape. \"\n"
          ],
          "name": "stderr"
        },
        {
          "output_type": "stream",
          "text": [
            "Epoch 1/10\n",
            "1000/1000 [==============================] - 5s 5ms/step - loss: 0.0000e+00 - acc: 0.0780\n",
            "Epoch 2/10\n",
            "1000/1000 [==============================] - 3s 3ms/step - loss: 0.0000e+00 - acc: 0.0000e+00\n",
            "Epoch 3/10\n",
            "1000/1000 [==============================] - 3s 3ms/step - loss: 0.0000e+00 - acc: 0.0000e+00\n",
            "Epoch 4/10\n",
            "1000/1000 [==============================] - 3s 3ms/step - loss: 0.0000e+00 - acc: 0.0000e+00\n",
            "Epoch 5/10\n",
            "1000/1000 [==============================] - 3s 3ms/step - loss: 0.0000e+00 - acc: 0.0000e+00\n",
            "Epoch 6/10\n",
            "1000/1000 [==============================] - 3s 3ms/step - loss: 0.0000e+00 - acc: 0.0000e+00\n",
            "Epoch 7/10\n",
            "1000/1000 [==============================] - 3s 3ms/step - loss: 0.0000e+00 - acc: 0.0000e+00\n",
            "Epoch 8/10\n",
            "1000/1000 [==============================] - 3s 3ms/step - loss: 0.0000e+00 - acc: 0.0000e+00\n",
            "Epoch 9/10\n",
            "1000/1000 [==============================] - 3s 3ms/step - loss: 0.0000e+00 - acc: 0.0000e+00\n",
            "Epoch 10/10\n",
            "1000/1000 [==============================] - 3s 3ms/step - loss: 0.0000e+00 - acc: 0.0000e+00\n"
          ],
          "name": "stdout"
        },
        {
          "output_type": "execute_result",
          "data": {
            "text/plain": [
              "<keras.callbacks.callbacks.History at 0x7f680047f588>"
            ]
          },
          "metadata": {
            "tags": []
          },
          "execution_count": 4
        }
      ]
    },
    {
      "cell_type": "markdown",
      "metadata": {
        "id": "q0kMgoru8hK1",
        "colab_type": "text"
      },
      "source": [
        "### 7.1.3 Multi-output models\n",
        "In the same way, you can use the functional API to build models with multiple outputs (or multiple heads). A simple example is a network that attempts to simultaneously predict different properties of the data, such as a network that takes as input a series of social media posts from a single anonymous person and tries to predict attributes of that person, such as age, gender, and income level.\n"
      ]
    },
    {
      "cell_type": "code",
      "metadata": {
        "id": "wxdnNEdi2qoe",
        "colab_type": "code",
        "colab": {
          "base_uri": "https://localhost:8080/",
          "height": 792
        },
        "outputId": "1db78ab7-e79c-4058-ded4-34164c53b69c"
      },
      "source": [
        "# Functional API implementation of a three-output model\n",
        "from keras import layers\n",
        "from keras import Input\n",
        "from keras.models import Model\n",
        "\n",
        "vocabulary_size = 50000\n",
        "num_income_groups = 10\n",
        "\n",
        "posts_input = Input(shape=(None,), dtype='int32', name='posts')\n",
        "embedded_posts = layers.Embedding(256, vocabulary_size)(posts_input)\n",
        "x = layers.Conv1D(128, 5, activation='relu')(embedded_posts)\n",
        "x = layers.MaxPooling1D(5)(x)\n",
        "x = layers.Conv1D(256, 5, activation='relu')(x)\n",
        "x = layers.Conv1D(256, 5, activation='relu')(x)\n",
        "x = layers.MaxPooling1D(5)(x)\n",
        "x = layers.Conv1D(256, 5, activation='relu')(x)\n",
        "x = layers.Conv1D(256, 5, activation='relu')(x)\n",
        "x = layers.GlobalMaxPooling1D()(x)\n",
        "x = layers.Dense(128, activation='relu')(x)\n",
        "age_prediction = layers.Dense(1, name='age')(x)\n",
        "income_prediction = layers.Dense(num_income_groups,\n",
        "                                 activation='softmax',\n",
        "                                 name='income')(x)\n",
        "gender_prediction = layers.Dense(1, activation='sigmoid', name='gender')(x)\n",
        "model = Model(posts_input,\n",
        "              [age_prediction, income_prediction, gender_prediction])\n",
        "model.summary()\n",
        "\n",
        "tf.keras.utils.plot_model(\n",
        "    model, \n",
        "    # to_file='model.png', \n",
        "    show_shapes=True, \n",
        "    show_layer_names=False,\n",
        "    rankdir='LR', # LR TB\n",
        "    expand_nested=True, \n",
        "    # dpi=96\n",
        ")"
      ],
      "execution_count": 5,
      "outputs": [
        {
          "output_type": "stream",
          "text": [
            "Model: \"model_2\"\n",
            "__________________________________________________________________________________________________\n",
            "Layer (type)                    Output Shape         Param #     Connected to                     \n",
            "==================================================================================================\n",
            "posts (InputLayer)              (None, None)         0                                            \n",
            "__________________________________________________________________________________________________\n",
            "embedding_3 (Embedding)         (None, None, 50000)  12800000    posts[0][0]                      \n",
            "__________________________________________________________________________________________________\n",
            "conv1d_1 (Conv1D)               (None, None, 128)    32000128    embedding_3[0][0]                \n",
            "__________________________________________________________________________________________________\n",
            "max_pooling1d_1 (MaxPooling1D)  (None, None, 128)    0           conv1d_1[0][0]                   \n",
            "__________________________________________________________________________________________________\n",
            "conv1d_2 (Conv1D)               (None, None, 256)    164096      max_pooling1d_1[0][0]            \n",
            "__________________________________________________________________________________________________\n",
            "conv1d_3 (Conv1D)               (None, None, 256)    327936      conv1d_2[0][0]                   \n",
            "__________________________________________________________________________________________________\n",
            "max_pooling1d_2 (MaxPooling1D)  (None, None, 256)    0           conv1d_3[0][0]                   \n",
            "__________________________________________________________________________________________________\n",
            "conv1d_4 (Conv1D)               (None, None, 256)    327936      max_pooling1d_2[0][0]            \n",
            "__________________________________________________________________________________________________\n",
            "conv1d_5 (Conv1D)               (None, None, 256)    327936      conv1d_4[0][0]                   \n",
            "__________________________________________________________________________________________________\n",
            "global_max_pooling1d_1 (GlobalM (None, 256)          0           conv1d_5[0][0]                   \n",
            "__________________________________________________________________________________________________\n",
            "dense_2 (Dense)                 (None, 128)          32896       global_max_pooling1d_1[0][0]     \n",
            "__________________________________________________________________________________________________\n",
            "age (Dense)                     (None, 1)            129         dense_2[0][0]                    \n",
            "__________________________________________________________________________________________________\n",
            "income (Dense)                  (None, 10)           1290        dense_2[0][0]                    \n",
            "__________________________________________________________________________________________________\n",
            "gender (Dense)                  (None, 1)            129         dense_2[0][0]                    \n",
            "==================================================================================================\n",
            "Total params: 45,982,476\n",
            "Trainable params: 45,982,476\n",
            "Non-trainable params: 0\n",
            "__________________________________________________________________________________________________\n"
          ],
          "name": "stdout"
        },
        {
          "output_type": "execute_result",
          "data": {
            "image/png": "[encoded data removed]",
            "text/plain": [
              "<IPython.core.display.Image object>"
            ]
          },
          "metadata": {
            "tags": []
          },
          "execution_count": 5
        }
      ]
    },
    {
      "cell_type": "markdown",
      "metadata": {
        "id": "J_H8jrpW8ZW0",
        "colab_type": "text"
      },
      "source": [
        "Importantly, training such a model requires the ability to specify different loss functions for different heads of the network: for instance, age prediction is a scalar regression task, but gender prediction is a binary classification task, requiring a different training procedure. But because gradient descent requires you to minimize a scalar, you must combine these losses into a single value in order to train the model. The simplest way to combine different losses is to sum them all. In Keras, you can use either a list or a dictionary of losses in compile to specify different objects for different outputs; the resulting loss values are summed into a global loss, which is minimized during training."
      ]
    },
    {
      "cell_type": "code",
      "metadata": {
        "id": "R2phGUFS8G7Z",
        "colab_type": "code",
        "colab": {}
      },
      "source": [
        "# model.compile(optimizer='rmsprop',\n",
        "#               loss=['mse', 'categorical_crossentropy', 'binary_crossentropy'])\n",
        "\n",
        "model.compile(optimizer='rmsprop',\n",
        "              loss={'age': 'mse',\n",
        "                    'income': 'categorical_crossentropy',\n",
        "                    'gender': 'binary_crossentropy'})"
      ],
      "execution_count": 0,
      "outputs": []
    },
    {
      "cell_type": "markdown",
      "metadata": {
        "id": "WjbY6nss81Q6",
        "colab_type": "text"
      },
      "source": [
        "Note that very imbalanced loss contributions will cause the model representations to be optimized preferentially for the task with the largest individual loss, at the expense of the other tasks. To remedy this, you can assign different levels of importance to the loss values in their contribution to the final loss. This is useful in particular if the losses’ values use different scales. For instance, the mean squared error (MSE) loss used for the age-regression task typically takes a value around 3–5, whereas the crossentropy loss used for the gender-classification task can be as low as 0.1. In such a situation, to balance the contribution of the different losses, you can assign a weight of 10 to the crossentropy loss and a weight of 0.25 to the MSE loss."
      ]
    },
    {
      "cell_type": "code",
      "metadata": {
        "id": "FRQMEq0O81lb",
        "colab_type": "code",
        "colab": {}
      },
      "source": [
        "# Compilation options of a multi-output model: loss weighting\n",
        "# model.compile(optimizer='rmsprop',\n",
        "#               loss=['mse', 'categorical_crossentropy', 'binary_crossentropy'],\n",
        "#               loss_weights=[0.25, 1., 10.])\n",
        "\n",
        "# Equivalent (possible only if you give names to the output layers)\n",
        "model.compile(optimizer='rmsprop',\n",
        "              loss={'age': 'mse',\n",
        "                    'income': 'categorical_crossentropy',\n",
        "                    'gender': 'binary_crossentropy'},\n",
        "              loss_weights={'age': 0.25,\n",
        "                            'income': 1.,\n",
        "                            'gender': 10.})"
      ],
      "execution_count": 0,
      "outputs": []
    },
    {
      "cell_type": "markdown",
      "metadata": {
        "id": "JipPvVQv9O0P",
        "colab_type": "text"
      },
      "source": [
        "Much as in the case of multi-input models, you can pass Numpy data to the model for training either via a list of arrays or via a dictionary of arrays.\n",
        "```\n",
        "# Feeding data to a multi-output model\n",
        "# age_targets, income_targets, and gender_targets are assumed to be Numpy arrays\n",
        "model.fit(posts, [age_targets, income_targets, gender_targets],\n",
        "          epochs=10, batch_size=64)\n",
        "\n",
        "model.fit(posts, {'age': age_targets,\n",
        "                  'income': income_targets,\n",
        "                  'gender': gender_targets},\n",
        "          epochs=10, batch_size=64)\n",
        "```          "
      ]
    },
    {
      "cell_type": "markdown",
      "metadata": {
        "id": "i-VEhm80M6n6",
        "colab_type": "text"
      },
      "source": [
        "### 7.1.4 Directed acyclic graphs of layers\n",
        "With the functional API, not only can you build models with multiple inputs and multiple outputs, but you can also implement networks with a complex internal topology. Neural networks in Keras are allowed to be arbitrary directed acyclic graphs of layers. The qualifier acyclic is important: these graphs can’t have cycles. It’s impossible for a tensor x to become the input of one of the layers that generated x. The only processing loops that are allowed (that is, recurrent connections) are those internal to recurrent layers.\n",
        "\n",
        "Several common neural-network components are implemented as graphs. Two notable ones are Inception modules and residual connections. To better understand how the functional API can be used to build graphs of layers, let’s take a look at how you can implement both of them in Keras.\n"
      ]
    },
    {
      "cell_type": "markdown",
      "metadata": {
        "id": "d3ap6mKiNA1G",
        "colab_type": "text"
      },
      "source": [
        "#### INCEPTION MODULES\n",
        "Inception3 is a popular type of network architecture for convolutional neural networks; it was developed by Christian Szegedy and his colleagues at Google in 2013–2014, inspired by the earlier network-in-network architecture. It consists of a stack of modules that themselves look like small independent networks, split into several parallel branches. The most basic form of an Inception module has three to four branches starting with a 1 × 1 convolution, followed by a 3 × 3 convolution, and ending with the concatenation of the resulting features. This setup helps the network separately learn spatial features and channel-wise features, which is more efficient than learning them jointly. More-complex versions of an Inception module are also possible, typically involving pooling operations, different spatial convolution sizes (for example, 5 × 5 instead of 3 × 3 on some branches), and branches without a spatial convolution (only a 1 × 1 convolution).\n",
        "\n",
        "![Inception Module from Inception V3](https://drive.google.com/uc?id=1-OsWTNp4FRkii-wrjvJCjfsXtFjuzZzR)\n",
        "\n",
        "####The purpose of 1 × 1 convolutions\n",
        "You already know that convolutions extract spatial patches around every tile in an input tensor and apply the same transformation to each patch. An edge case is when the patches extracted consist of a single tile. The convolution operation then becomes equivalent to running each tile vector through a Dense layer: it will compute features that mix together information from the channels of the input tensor, but it won’t mix information across space (because it’s looking at one tile at a time). Such 1 × 1 convolutions (also called pointwise convolutions) are featured in Inception modules, where they contribute to factoring out channel-wise feature learning and spacewise feature learning—a reasonable thing to do if you assume that each channel is highly autocorrelated across space, but different channels may not be highly correlated with each other.\n",
        "<br>\n",
        "<br>\n",
        "Here’s how you’d implement the module featured in figure 7.8 using the functional API. This example assumes the existence of a 4D input tensor x:\n",
        "```\n",
        "# Every branch has the same stride value (2), \n",
        "# which is necessary to keep all branch outputs the same size so you can concatenate them\n",
        "branch_a = layers.Conv2D(filters = 128, kernel_size = 1, activation='relu', strides=2)(x)\n",
        "\n",
        "# In this branch, the striding occurs in the spatial convolution layer\n",
        "branch_b = layers.Conv2D(128, 1, activation='relu')(x)\n",
        "branch_b = layers.Conv2D(128, 3, activation='relu', strides=2)(branch_b)\n",
        "\n",
        "# In this branch, the striding occurs in the average pooling layer.\n",
        "branch_c = layers.AveragePooling2D(3, strides=2)(x)\n",
        "branch_c = layers.Conv2D(128, 3, activation='relu')(branch_c)\n",
        "\n",
        "branch_d = layers.Conv2D(128, 1, activation='relu')(x)\n",
        "branch_d = layers.Conv2D(128, 3, activation='relu')(branch_d)\n",
        "branch_d = layers.Conv2D(128, 3, activation='relu', strides=2)(branch_d)\n",
        "\n",
        "# Concatenates the branch outputs to obtain the module output\n",
        "output = layers.concatenate([branch_a, branch_b, branch_c, branch_d], axis=-1)\n",
        "```\n",
        "\n",
        "Note that the full Inception V3 architecture is available in Keras as ***keras.applications.inception_v3.InceptionV3***, including weights pretrained on the ImageNet dataset. Another closely related model available as part of the Keras applications module is Xception. Xception, which stands for extreme inception, is a convnet architecture loosely inspired by Inception. It takes the idea of separating the learning of channel-wise and space-wise features to its logical extreme, and replaces Inception modules with depthwise separable convolutions consisting of a depthwise convolution (a spatial convolution where every input channel is handled separately) followed by a pointwise convolution (a 1 × 1 convolution)—effectively, an extreme form of an Inception module, where spatial features and channel-wise features are fully separated. Xception has roughly the same number of parameters as Inception V3, but it shows better runtime performance and higher accuracy on ImageNet as well as other large-scale datasets, due to a more efficient use of model parameters. "
      ]
    },
    {
      "cell_type": "markdown",
      "metadata": {
        "id": "F93D4dAuZ1_-",
        "colab_type": "text"
      },
      "source": [
        "#### RESIDUAL CONNECTIONS\n",
        "Residual connections are a common graph-like network component found in many post- 2015 network architectures, including Xception. They were introduced by He et al. from Microsoft in their winning entry in the ILSVRC ImageNet challenge in late 2015.6 They tackle two common problems that plague any large-scale deep-learning model: vanishing gradients and representational bottlenecks. In general, adding residual connections to any model that has more than 10 layers is likely to be beneficial.\n",
        "\n",
        "A residual connection consists of making the output of an earlier layer available as input to a later layer, effectively creating a shortcut in a sequential network. Rather than being concatenated to the later activation, the earlier output is summed with the later activation, which assumes that both activations are the same size. If they’re different sizes, you can use a linear transformation to reshape the earlier activation into the target shape (for example, a Dense layer without an activation or, for convolutional feature maps, a 1 × 1 convolution without an activation).\n",
        "\n",
        "Here’s how to implement a residual connection in Keras when the feature-map sizes are the same, using identity residual connections. This example assumes the existence of a 4D input tensor x:\n",
        "\n",
        "```\n",
        "x = ...\n",
        "\n",
        "# applies transformation to x\n",
        "y = layers.Conv2D(128, 3, activation='relu', padding='same')(x)\n",
        "y = layers.Conv2D(128, 3, activation='relu', padding='same')(y)\n",
        "y = layers.Conv2D(128, 3, activation='relu', padding='same')(y)\n",
        "\n",
        "# adds original x back to output features\n",
        "y = layers.add([y, x])\n",
        "```\n",
        "\n",
        "And the following implements a residual connection when the feature-map sizes differ, using a linear residual connection (again, assuming the existence of a 4D input tensor x):\n",
        "\n",
        "```\n",
        "x = ...\n",
        "\n",
        "y = layers.Conv2D(128, 3, activation='relu', padding='same')(x)\n",
        "y = layers.Conv2D(128, 3, activation='relu', padding='same')(y)\n",
        "y = layers.MaxPooling2D(2, strides=2)(y)\n",
        "\n",
        "# Uses a 1 × 1 convolution to linearly downsample the original x tensor to the same shape as y\n",
        "residual = layers.Conv2D(128, 1, strides=2, padding='same')(x)\n",
        "\n",
        "# Adds the residual tensor back to the output features\n",
        "y = layers.add([y, residual])\n",
        "```\n",
        "\n",
        "#### Representational bottlenecks in deep learning\n",
        "In a Sequential model, each successive representation layer is built on top of the previous one, which means it only has access to information contained in the activation of the previous layer. If one layer is too small (for example, it has features that are too low-dimensional), then the model will be constrained by how much information can be crammed into the activations of this layer. \n",
        "\n",
        "You can grasp this concept with a signal-processing analogy: if you have an audioprocessing pipeline that consists of a series of operations, each of which takes as input the output of the previous operation, then if one operation crops your signal to a low-frequency range (for example, 0–15 kHz), the operations downstream will never be able to recover the dropped frequencies. Any loss of information is permanent. Residual connections, by reinjecting earlier information downstream, partially solve this issue for deep-learning models.\n",
        "\n",
        "#### Vanishing gradients in deep learning\n",
        "Backpropagation, the master algorithm used to train deep neural networks, works by propagating a feedback signal from the output loss down to earlier layers. If this feedback signal has to be propagated through a deep stack of layers, the signal may become tenuous or even be lost entirely, rendering the network untrainable. This issue is known as vanishing gradients. \n",
        "\n",
        "This problem occurs both with deep networks and with recurrent networks over very long sequences—in both cases, a feedback signal must be propagated through a long series of operations. You’re already familiar with the solution that the LSTM layer uses to address this problem in recurrent networks: it introduces a carry track that propagates information parallel to the main processing track. Residual connections work in a similar way in feedforward deep networks, but they’re even simpler: they introduce a purely linear information carry track parallel to the main layer stack, thus helping to propagate gradients through arbitrarily deep stacks of layers."
      ]
    },
    {
      "cell_type": "markdown",
      "metadata": {
        "id": "PK80e14HpIe-",
        "colab_type": "text"
      },
      "source": [
        "### 7.1.5 Layer weight sharing\n",
        "One more important feature of the functional API is the ability to reuse a layer instance several times. When you call a layer instance twice, instead of instantiating a new layer for each call, you reuse the same weights with every call. This allows you to build models that have shared branches—several branches that all share the same knowledge and perform the same operations. That is, they share the same representations and learn these representations simultaneously for different sets of inputs.\n",
        "\n",
        "For example, consider a model that attempts to assess the semantic similarity between two sentences. The model has two inputs (the two sentences to compare) and outputs a score between 0 and 1, where 0 means unrelated sentences and 1 means sentences that are either identical or reformulations of each other. Such a model could be useful in many applications, including deduplicating natural-language queries in a dialog system.\n",
        "\n",
        "In this setup, the two input sentences are interchangeable, because semantic similarity is a symmetrical relationship: the similarity of A to B is identical to the similarity of B to A. For this reason, it wouldn’t make sense to learn two independent models for processing each input sentence. Rather, you want to process both with a single LSTM layer. The representations of this LSTM layer (its weights) are learned based on both inputs simultaneously. This is what we call a Siamese LSTM model or a shared LSTM.\n",
        "\n",
        "Here’s how to implement such a model using layer sharing (layer reuse) in the Keras functional API:\n",
        "\n"
      ]
    },
    {
      "cell_type": "code",
      "metadata": {
        "id": "nvg5Kl5pcoF1",
        "colab_type": "code",
        "colab": {
          "base_uri": "https://localhost:8080/",
          "height": 605
        },
        "outputId": "956bfe48-8f5a-42a5-b7ac-eb85603d4f2e"
      },
      "source": [
        "import tensorflow as tf\n",
        "from keras import layers\n",
        "from keras import Input\n",
        "from keras.models import Model\n",
        "\n",
        "lstm = layers.LSTM(32)  # init single LSTM layer once\n",
        "\n",
        "# Building the left branch of the model: inputs are variable-length sequences of vectors of size 128.\n",
        "left_input = Input(shape=(None, 128))\n",
        "left_output = lstm(left_input)\n",
        "\n",
        "# Building the right branch of the model: when you call an existing layer instance, you reuse its weights\n",
        "right_input = Input(shape=(None, 128))\n",
        "right_output = lstm(right_input)\n",
        "\n",
        "# Builds the classifier on top\n",
        "merged = layers.concatenate([left_output, right_output], axis=-1)\n",
        "predictions = layers.Dense(1, activation='sigmoid')(merged)\n",
        "\n",
        "# Instantiating and training the model: when you train such a model, \n",
        "# the weights of the LSTM layer are updated based on both inputs.\n",
        "model = Model([left_input, right_input], predictions)\n",
        "# model.fit([left_data, right_data], targets)\n",
        "model.summary()\n",
        "\n",
        "tf.keras.utils.plot_model(\n",
        "    model, \n",
        "    # to_file='model.png', \n",
        "    show_shapes=True, \n",
        "    show_layer_names=False,\n",
        "    rankdir='LR', # LR TB\n",
        "    expand_nested=True, \n",
        "    # dpi=96\n",
        ")"
      ],
      "execution_count": 2,
      "outputs": [
        {
          "output_type": "stream",
          "text": [
            "Model: \"model_2\"\n",
            "__________________________________________________________________________________________________\n",
            "Layer (type)                    Output Shape         Param #     Connected to                     \n",
            "==================================================================================================\n",
            "input_3 (InputLayer)            (None, None, 128)    0                                            \n",
            "__________________________________________________________________________________________________\n",
            "input_4 (InputLayer)            (None, None, 128)    0                                            \n",
            "__________________________________________________________________________________________________\n",
            "lstm_2 (LSTM)                   (None, 32)           20608       input_3[0][0]                    \n",
            "                                                                 input_4[0][0]                    \n",
            "__________________________________________________________________________________________________\n",
            "concatenate_2 (Concatenate)     (None, 64)           0           lstm_2[0][0]                     \n",
            "                                                                 lstm_2[1][0]                     \n",
            "__________________________________________________________________________________________________\n",
            "dense_2 (Dense)                 (None, 1)            65          concatenate_2[0][0]              \n",
            "==================================================================================================\n",
            "Total params: 20,673\n",
            "Trainable params: 20,673\n",
            "Non-trainable params: 0\n",
            "__________________________________________________________________________________________________\n"
          ],
          "name": "stdout"
        },
        {
          "output_type": "execute_result",
          "data": {
            "image/png": "[encoded data removed]",
            "text/plain": [
              "<IPython.core.display.Image object>"
            ]
          },
          "metadata": {
            "tags": []
          },
          "execution_count": 2
        }
      ]
    },
    {
      "cell_type": "markdown",
      "metadata": {
        "id": "Pavz9aFKp3z6",
        "colab_type": "text"
      },
      "source": [
        "Naturally, a layer instance may be used more than once—it can be called arbitrarily many times, reusing the same set of weights every time."
      ]
    },
    {
      "cell_type": "markdown",
      "metadata": {
        "id": "Wu_YFEg_wymT",
        "colab_type": "text"
      },
      "source": [
        "### 7.1.6 Models as layers\n",
        "Importantly, in the functional API, models can be used as you’d use layers—effectively, you can think of a model as a “bigger layer.” This is true of both the Sequential and Model classes. This means you can call a model on an input tensor and retrieve an output tensor:\n",
        "```\n",
        "y = model(x)\n",
        "```\n",
        "If the model has multiple input tensors and multiple output tensors, it should be called with a list of tensors:\n",
        "```\n",
        "y1, y2 = model([x1, x2])\n",
        "```\n",
        "When you call a model instance, you’re reusing the weights of the model—exactly like what happens when you call a layer instance. Calling an instance, whether it’s a layer instance or a model instance, will always reuse the existing learned representations of the instance—which is intuitive.\n",
        "\n",
        "One simple practical example of what you can build by reusing a model instance is a vision model that uses a dual camera as its input: two parallel cameras, a few centimeters (one inch) apart. Such a model can perceive depth, which can be useful in many applications. You shouldn’t need two independent models to extract visual features from the left camera and the right camera before merging the two feeds. Such low-level processing can be shared across the two inputs: that is, done via layers that use the same weights and thus share the same representations. Here’s how you’d implement a Siamese vision model (shared convolutional base) in Keras:\n",
        "```\n",
        "from keras import layers\n",
        "from keras import applications\n",
        "from keras import Input\n",
        "\n",
        "# The base image-processing model is the Xception network (convolutional base only)\n",
        "xception_base = applications.Xception(weights=None, include_top=False)\n",
        "\n",
        "# inputs inputs are 250 × 250 RGB images.\n",
        "left_input = Input(shape=(250, 250, 3))\n",
        "right_input = Input(shape=(250, 250, 3))\n",
        "\n",
        "# Calls the same vision model twice\n",
        "left_features = xception_base(left_input)\n",
        "right_features = xception_base(right_input)\n",
        "\n",
        "# The merged features contain information from the right visual feed and the left visual feed\n",
        "merged_features = layers.concatenate([left_features, right_input], axis=-1)\n",
        "```"
      ]
    },
    {
      "cell_type": "markdown",
      "metadata": {
        "id": "yDXbuX4YxfME",
        "colab_type": "text"
      },
      "source": [
        "### 7.1.7 Wrapping up\n",
        "This concludes our introduction to the Keras functional API—an essential tool for building advanced deep neural network architectures. Now you know the following:\n",
        "* To step out of the Sequential API whenever you need anything more than a linear stack of layers\n",
        "* How to build Keras models with several inputs, several outputs, and complex internal network topology, using the Keras functional API\n",
        "* How to reuse the weights of a layer or model across different processing branches, by calling the same layer or model instance several times"
      ]
    }
  ]
}