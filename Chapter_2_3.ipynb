{
  "nbformat": 4,
  "nbformat_minor": 0,
  "metadata": {
    "colab": {
      "name": "Chapter 2-3.ipynb",
      "provenance": [],
      "collapsed_sections": [],
      "toc_visible": true,
      "authorship_tag": "ABX9TyPRPi73QB9MJG6WtVNfYer9",
      "include_colab_link": true
    },
    "kernelspec": {
      "name": "python3",
      "display_name": "Python 3"
    }
  },
  "cells": [
    {
      "cell_type": "markdown",
      "metadata": {
        "id": "view-in-github",
        "colab_type": "text"
      },
      "source": [
        "<a href=\"https://colab.research.google.com/github/uditmanav17/DL-with-Python/blob/master/Chapter_2_3.ipynb\" target=\"_parent\"><img src=\"https://colab.research.google.com/assets/colab-badge.svg\" alt=\"Open In Colab\"/></a>"
      ]
    },
    {
      "cell_type": "markdown",
      "metadata": {
        "id": "xrFc-cG5O4t8",
        "colab_type": "text"
      },
      "source": [
        "# Chapter 2: Maths of Neural Net"
      ]
    },
    {
      "cell_type": "code",
      "metadata": {
        "id": "kWarLT02PPhg",
        "colab_type": "code",
        "colab": {}
      },
      "source": [
        "%tensorflow_version 2.x\n",
        "import tensorflow as tf\n",
        "import numpy as np\n",
        "import matplotlib.pyplot as plt\n",
        "from tensorflow.keras import models, layers, optimizers, losses, metrics\n",
        "from tensorflow.keras.utils import to_categorical"
      ],
      "execution_count": 0,
      "outputs": []
    },
    {
      "cell_type": "markdown",
      "metadata": {
        "id": "4cJda4jHPFmO",
        "colab_type": "text"
      },
      "source": [
        "## 2.1: Loading MNIST dataset in Keras"
      ]
    },
    {
      "cell_type": "code",
      "metadata": {
        "id": "07bdbCfYspA8",
        "colab_type": "code",
        "outputId": "ab5947f6-6c47-4867-bfb1-069c19f84e0d",
        "colab": {
          "base_uri": "https://localhost:8080/",
          "height": 54
        }
      },
      "source": [
        "from tensorflow.keras.datasets import mnist\n",
        "(train_images, train_labels), (test_images, test_labels) = mnist.load_data()"
      ],
      "execution_count": 0,
      "outputs": [
        {
          "output_type": "stream",
          "text": [
            "Downloading data from https://storage.googleapis.com/tensorflow/tf-keras-datasets/mnist.npz\n",
            "11493376/11490434 [==============================] - 0s 0us/step\n"
          ],
          "name": "stdout"
        }
      ]
    },
    {
      "cell_type": "code",
      "metadata": {
        "id": "Hj_DVdQqPh2J",
        "colab_type": "code",
        "outputId": "c6175f59-ce9c-42e8-ce84-ab14a6d32ed8",
        "colab": {
          "base_uri": "https://localhost:8080/",
          "height": 90
        }
      },
      "source": [
        "print(f\"train_images.shape - {train_images.shape}\")\n",
        "print(f\"train_labels.shape - {train_labels.shape}\")\n",
        "print(f\"test_images.shape - {test_images.shape}\")\n",
        "print(f\"test_labels.shape - {test_labels.shape}\")"
      ],
      "execution_count": 0,
      "outputs": [
        {
          "output_type": "stream",
          "text": [
            "train_images.shape - (60000, 28, 28)\n",
            "train_labels.shape - (60000,)\n",
            "test_images.shape - (10000, 28, 28)\n",
            "test_labels.shape - (10000,)\n"
          ],
          "name": "stdout"
        }
      ]
    },
    {
      "cell_type": "code",
      "metadata": {
        "id": "79WYOhvyPxLL",
        "colab_type": "code",
        "colab": {}
      },
      "source": [
        "from tensorflow.keras import models\n",
        "from tensorflow.keras import layers"
      ],
      "execution_count": 0,
      "outputs": []
    },
    {
      "cell_type": "code",
      "metadata": {
        "id": "F2drbNbYQsrf",
        "colab_type": "code",
        "outputId": "48dd8147-ae11-479f-e68c-21b6f1da84c1",
        "colab": {
          "base_uri": "https://localhost:8080/",
          "height": 237
        }
      },
      "source": [
        "#sequential way to create a model, piecewise\n",
        "network = models.Sequential()\n",
        "network.add(layers.Dense(512, activation='relu', input_shape=(28 * 28,)))\n",
        "network.add(layers.Dense(10, activation='softmax'))\n",
        "network.summary()"
      ],
      "execution_count": 0,
      "outputs": [
        {
          "output_type": "stream",
          "text": [
            "Model: \"sequential\"\n",
            "_________________________________________________________________\n",
            "Layer (type)                 Output Shape              Param #   \n",
            "=================================================================\n",
            "dense (Dense)                (None, 512)               401920    \n",
            "_________________________________________________________________\n",
            "dense_1 (Dense)              (None, 10)                5130      \n",
            "=================================================================\n",
            "Total params: 407,050\n",
            "Trainable params: 407,050\n",
            "Non-trainable params: 0\n",
            "_________________________________________________________________\n"
          ],
          "name": "stdout"
        }
      ]
    },
    {
      "cell_type": "code",
      "metadata": {
        "id": "SUQ5Zl3BQx2G",
        "colab_type": "code",
        "outputId": "af096cc1-36bb-443a-914b-571be260cadd",
        "colab": {
          "base_uri": "https://localhost:8080/",
          "height": 237
        }
      },
      "source": [
        "#sequential way to create a model, full\n",
        "network = models.Sequential([\n",
        "                             layers.Dense(512, \n",
        "                                          activation='relu', \n",
        "                                          input_shape=(28 * 28,)), \n",
        "                             layers.Dense(10, \n",
        "                                          activation='softmax')\n",
        "])\n",
        "network.summary()"
      ],
      "execution_count": 0,
      "outputs": [
        {
          "output_type": "stream",
          "text": [
            "Model: \"sequential_1\"\n",
            "_________________________________________________________________\n",
            "Layer (type)                 Output Shape              Param #   \n",
            "=================================================================\n",
            "dense_2 (Dense)              (None, 512)               401920    \n",
            "_________________________________________________________________\n",
            "dense_3 (Dense)              (None, 10)                5130      \n",
            "=================================================================\n",
            "Total params: 407,050\n",
            "Trainable params: 407,050\n",
            "Non-trainable params: 0\n",
            "_________________________________________________________________\n"
          ],
          "name": "stdout"
        }
      ]
    },
    {
      "cell_type": "code",
      "metadata": {
        "id": "ihU7PMsx2fMS",
        "colab_type": "code",
        "outputId": "0b08e209-9350-4baa-f935-088b0eead3b7",
        "colab": {
          "base_uri": "https://localhost:8080/",
          "height": 274
        }
      },
      "source": [
        "#functional way to create a model, always piecewise\n",
        "l1 = layers.Input(shape=(28*28, ))\n",
        "l2 = layers.Dense(512, activation='relu')(l1)\n",
        "l2 = layers.Dense(10, activation='softmax')(l2)\n",
        "model = models.Model(inputs=l1, outputs=l2)\n",
        "model.summary()"
      ],
      "execution_count": 0,
      "outputs": [
        {
          "output_type": "stream",
          "text": [
            "Model: \"model\"\n",
            "_________________________________________________________________\n",
            "Layer (type)                 Output Shape              Param #   \n",
            "=================================================================\n",
            "input_1 (InputLayer)         [(None, 784)]             0         \n",
            "_________________________________________________________________\n",
            "dense_4 (Dense)              (None, 512)               401920    \n",
            "_________________________________________________________________\n",
            "dense_5 (Dense)              (None, 10)                5130      \n",
            "=================================================================\n",
            "Total params: 407,050\n",
            "Trainable params: 407,050\n",
            "Non-trainable params: 0\n",
            "_________________________________________________________________\n"
          ],
          "name": "stdout"
        }
      ]
    },
    {
      "cell_type": "code",
      "metadata": {
        "id": "3WDH2Fne6avX",
        "colab_type": "code",
        "outputId": "7c1feed3-db0c-4cd3-f97b-80cbcb6b0b08",
        "colab": {
          "base_uri": "https://localhost:8080/",
          "height": 312
        }
      },
      "source": [
        "tf.keras.utils.plot_model(\n",
        "    network, to_file='model.png', show_shapes=True, show_layer_names=False,\n",
        "    rankdir='TB', expand_nested=True, dpi=96\n",
        ")"
      ],
      "execution_count": 0,
      "outputs": [
        {
          "output_type": "execute_result",
          "data": {
            "image/png": "[encoded data removed]",
            "text/plain": [
              "<IPython.core.display.Image object>"
            ]
          },
          "metadata": {
            "tags": []
          },
          "execution_count": 8
        }
      ]
    },
    {
      "cell_type": "code",
      "metadata": {
        "id": "X3ObkLvDb0Zy",
        "colab_type": "code",
        "colab": {}
      },
      "source": [
        "network.compile(optimizer='rmsprop',\n",
        "loss='categorical_crossentropy',\n",
        "metrics=['accuracy'])"
      ],
      "execution_count": 0,
      "outputs": []
    },
    {
      "cell_type": "code",
      "metadata": {
        "id": "VYHgbrfscVH_",
        "colab_type": "code",
        "colab": {}
      },
      "source": [
        "train_images = train_images.reshape((60000, 28 * 28))\n",
        "train_images = train_images.astype('float32') / 255\n",
        "test_images = test_images.reshape((10000, 28 * 28))\n",
        "test_images = test_images.astype('float32') / 255"
      ],
      "execution_count": 0,
      "outputs": []
    },
    {
      "cell_type": "code",
      "metadata": {
        "id": "J7AEdukZcdfr",
        "colab_type": "code",
        "colab": {}
      },
      "source": [
        "# We also need to categorically encode the labels, a step that’s explained in chapter 3.\n",
        "from tensorflow.keras.utils import to_categorical\n",
        "train_labels = to_categorical(train_labels)\n",
        "test_labels = to_categorical(test_labels)"
      ],
      "execution_count": 0,
      "outputs": []
    },
    {
      "cell_type": "code",
      "metadata": {
        "id": "tHg2PzspcoQk",
        "colab_type": "code",
        "outputId": "8cbb7814-aafb-44a5-e75f-2806cf440143",
        "colab": {
          "base_uri": "https://localhost:8080/",
          "height": 219
        }
      },
      "source": [
        "network.fit(train_images, train_labels, epochs=5, batch_size=128)"
      ],
      "execution_count": 0,
      "outputs": [
        {
          "output_type": "stream",
          "text": [
            "Epoch 1/5\n",
            "469/469 [==============================] - 4s 8ms/step - loss: 0.2570 - accuracy: 0.9252\n",
            "Epoch 2/5\n",
            "469/469 [==============================] - 4s 8ms/step - loss: 0.1024 - accuracy: 0.9691\n",
            "Epoch 3/5\n",
            "469/469 [==============================] - 4s 8ms/step - loss: 0.0688 - accuracy: 0.9795\n",
            "Epoch 4/5\n",
            "469/469 [==============================] - 4s 8ms/step - loss: 0.0493 - accuracy: 0.9849\n",
            "Epoch 5/5\n",
            "469/469 [==============================] - 4s 8ms/step - loss: 0.0377 - accuracy: 0.9888\n"
          ],
          "name": "stdout"
        },
        {
          "output_type": "execute_result",
          "data": {
            "text/plain": [
              "<tensorflow.python.keras.callbacks.History at 0x7f20587db1d0>"
            ]
          },
          "metadata": {
            "tags": []
          },
          "execution_count": 12
        }
      ]
    },
    {
      "cell_type": "code",
      "metadata": {
        "id": "tIwRE8qfcs-9",
        "colab_type": "code",
        "outputId": "29e0d30a-e4dc-4c95-bf98-11f46dfb7d7d",
        "colab": {
          "base_uri": "https://localhost:8080/",
          "height": 54
        }
      },
      "source": [
        "test_loss, test_acc = network.evaluate(test_images, test_labels)\n",
        "print('test_acc:', test_acc)"
      ],
      "execution_count": 0,
      "outputs": [
        {
          "output_type": "stream",
          "text": [
            "313/313 [==============================] - 1s 2ms/step - loss: 0.0662 - accuracy: 0.9805\n",
            "test_acc: 0.9804999828338623\n"
          ],
          "name": "stdout"
        }
      ]
    },
    {
      "cell_type": "code",
      "metadata": {
        "id": "GLQdR1lwc02V",
        "colab_type": "code",
        "outputId": "0e38525b-619c-4646-9bf1-95d3039adf60",
        "colab": {
          "base_uri": "https://localhost:8080/",
          "height": 35
        }
      },
      "source": [
        "!python --version"
      ],
      "execution_count": 0,
      "outputs": [
        {
          "output_type": "stream",
          "text": [
            "Python 3.6.9\n"
          ],
          "name": "stdout"
        }
      ]
    },
    {
      "cell_type": "code",
      "metadata": {
        "id": "rwfMT9Ohoct2",
        "colab_type": "code",
        "outputId": "beb4b5a0-45db-4d6d-cffc-36e36bc6f107",
        "colab": {
          "base_uri": "https://localhost:8080/",
          "height": 54
        }
      },
      "source": [
        "# Scalars (0D tensors)\n",
        "x = np.array(12)\n",
        "print(x)\n",
        "print(x.ndim)"
      ],
      "execution_count": 0,
      "outputs": [
        {
          "output_type": "stream",
          "text": [
            "12\n",
            "0\n"
          ],
          "name": "stdout"
        }
      ]
    },
    {
      "cell_type": "code",
      "metadata": {
        "id": "-Nl3UEJYA-YW",
        "colab_type": "code",
        "outputId": "b206aa6e-0525-4cf0-c0d5-06c64dcfb4d3",
        "colab": {
          "base_uri": "https://localhost:8080/",
          "height": 54
        }
      },
      "source": [
        "# Vectors (1D tensors)\n",
        "x = np.array([12, 3, 4, 5])\n",
        "print(x)\n",
        "print(x.ndim)"
      ],
      "execution_count": 0,
      "outputs": [
        {
          "output_type": "stream",
          "text": [
            "[12  3  4  5]\n",
            "1\n"
          ],
          "name": "stdout"
        }
      ]
    },
    {
      "cell_type": "code",
      "metadata": {
        "id": "huIyctDzBHVA",
        "colab_type": "code",
        "outputId": "3f8a7e20-2119-49a9-9753-bb79b423c9c0",
        "colab": {
          "base_uri": "https://localhost:8080/",
          "height": 90
        }
      },
      "source": [
        "# Matrices (2D tensors)\n",
        "x = np.array([[5, 78, 2, 34, 0],\n",
        "[6, 79, 3, 35, 1],\n",
        "[7, 80, 4, 36, 2]])\n",
        "print(x)\n",
        "print(x.ndim)"
      ],
      "execution_count": 0,
      "outputs": [
        {
          "output_type": "stream",
          "text": [
            "[[ 5 78  2 34  0]\n",
            " [ 6 79  3 35  1]\n",
            " [ 7 80  4 36  2]]\n",
            "2\n"
          ],
          "name": "stdout"
        }
      ]
    },
    {
      "cell_type": "code",
      "metadata": {
        "id": "Ps-9va0TD_8P",
        "colab_type": "code",
        "outputId": "aabcbf35-2f48-41ae-987b-0d3323af88b4",
        "colab": {
          "base_uri": "https://localhost:8080/",
          "height": 237
        }
      },
      "source": [
        "# 3D tensors and higher-dimensional tensors\n",
        "x = np.array([[[5, 78, 2, 34, 0],\n",
        "[6, 79, 3, 35, 1],\n",
        "[7, 80, 4, 36, 2]],\n",
        "[[5, 78, 2, 34, 0],\n",
        "[6, 79, 3, 35, 1],\n",
        "[7, 80, 4, 36, 2]],\n",
        "[[5, 78, 2, 34, 0],\n",
        "[6, 79, 3, 35, 1],\n",
        "[7, 80, 4, 36, 2]]])\n",
        "print(x)\n",
        "print(x.ndim)"
      ],
      "execution_count": 0,
      "outputs": [
        {
          "output_type": "stream",
          "text": [
            "[[[ 5 78  2 34  0]\n",
            "  [ 6 79  3 35  1]\n",
            "  [ 7 80  4 36  2]]\n",
            "\n",
            " [[ 5 78  2 34  0]\n",
            "  [ 6 79  3 35  1]\n",
            "  [ 7 80  4 36  2]]\n",
            "\n",
            " [[ 5 78  2 34  0]\n",
            "  [ 6 79  3 35  1]\n",
            "  [ 7 80  4 36  2]]]\n",
            "3\n"
          ],
          "name": "stdout"
        }
      ]
    },
    {
      "cell_type": "code",
      "metadata": {
        "id": "8AVPSbU2EHxE",
        "colab_type": "code",
        "outputId": "efbe74e4-30a5-48a0-c52b-82ec9243cafe",
        "colab": {
          "base_uri": "https://localhost:8080/",
          "height": 283
        }
      },
      "source": [
        "(train_images, train_labels), (test_images, test_labels) = mnist.load_data()\n",
        "digit = train_images[4]\n",
        "print(digit.shape)\n",
        "import matplotlib.pyplot as plt\n",
        "plt.imshow(digit, cmap=plt.cm.binary)\n",
        "plt.show()"
      ],
      "execution_count": 0,
      "outputs": [
        {
          "output_type": "stream",
          "text": [
            "(28, 28)\n"
          ],
          "name": "stdout"
        },
        {
          "output_type": "display_data",
          "data": {
            "image/png": "[encoded data removed]",
            "text/plain": [
              "<Figure size 432x288 with 1 Axes>"
            ]
          },
          "metadata": {
            "tags": [],
            "needs_background": "light"
          }
        }
      ]
    },
    {
      "cell_type": "code",
      "metadata": {
        "id": "Ylz6tbw2Ixcz",
        "colab_type": "code",
        "outputId": "2bcc35dc-f520-43ee-db33-cce1da590df0",
        "colab": {
          "base_uri": "https://localhost:8080/",
          "height": 35
        }
      },
      "source": [
        "my_slice = train_images[10:100] # equivalent to train_images[10:100, :, :] or train_images[10:100, 0:28, 0:28]\n",
        "print(my_slice.shape)"
      ],
      "execution_count": 0,
      "outputs": [
        {
          "output_type": "stream",
          "text": [
            "(90, 28, 28)\n"
          ],
          "name": "stdout"
        }
      ]
    },
    {
      "cell_type": "code",
      "metadata": {
        "id": "JSFUaW3fJltp",
        "colab_type": "code",
        "outputId": "2edd3c69-e0f7-4f48-dd77-868f155ffce5",
        "colab": {
          "base_uri": "https://localhost:8080/",
          "height": 283
        }
      },
      "source": [
        "plt.imshow(train_images[4, 14:, 14:], cmap=plt.cm.binary)"
      ],
      "execution_count": 0,
      "outputs": [
        {
          "output_type": "execute_result",
          "data": {
            "text/plain": [
              "<matplotlib.image.AxesImage at 0x7f2055023198>"
            ]
          },
          "metadata": {
            "tags": []
          },
          "execution_count": 21
        },
        {
          "output_type": "display_data",
          "data": {
            "image/png": "[encoded data removed]",
            "text/plain": [
              "<Figure size 432x288 with 1 Axes>"
            ]
          },
          "metadata": {
            "tags": [],
            "needs_background": "light"
          }
        }
      ]
    },
    {
      "cell_type": "code",
      "metadata": {
        "id": "92GxBqB5KU0e",
        "colab_type": "code",
        "outputId": "07373cf4-f33d-4d1c-d404-0324cfe73043",
        "colab": {
          "base_uri": "https://localhost:8080/",
          "height": 54
        }
      },
      "source": [
        "x = np.array([2, 3]) + np.array([2])\n",
        "print(x.shape, type(x))\n",
        "print(x)"
      ],
      "execution_count": 0,
      "outputs": [
        {
          "output_type": "stream",
          "text": [
            "(2,) <class 'numpy.ndarray'>\n",
            "[4 5]\n"
          ],
          "name": "stdout"
        }
      ]
    },
    {
      "cell_type": "code",
      "metadata": {
        "id": "pwai55k_Qb2x",
        "colab_type": "code",
        "outputId": "d16cdbdd-e292-4015-8f50-2dfc3d7dcae2",
        "colab": {
          "base_uri": "https://localhost:8080/",
          "height": 72
        }
      },
      "source": [
        "x = np.array(range(6), dtype=np.float32).reshape((3, 2))\n",
        "x"
      ],
      "execution_count": 0,
      "outputs": [
        {
          "output_type": "execute_result",
          "data": {
            "text/plain": [
              "array([[0., 1.],\n",
              "       [2., 3.],\n",
              "       [4., 5.]], dtype=float32)"
            ]
          },
          "metadata": {
            "tags": []
          },
          "execution_count": 23
        }
      ]
    },
    {
      "cell_type": "code",
      "metadata": {
        "id": "7_XFjyYdSxMd",
        "colab_type": "code",
        "outputId": "d9ce7b62-1eb9-43ea-b2bb-64a64a4367ce",
        "colab": {
          "base_uri": "https://localhost:8080/",
          "height": 35
        }
      },
      "source": [
        "x.reshape((1, 6))"
      ],
      "execution_count": 0,
      "outputs": [
        {
          "output_type": "execute_result",
          "data": {
            "text/plain": [
              "array([[0., 1., 2., 3., 4., 5.]], dtype=float32)"
            ]
          },
          "metadata": {
            "tags": []
          },
          "execution_count": 24
        }
      ]
    },
    {
      "cell_type": "code",
      "metadata": {
        "id": "-G__fwC2S0yo",
        "colab_type": "code",
        "outputId": "7a3668db-b213-4bdd-848e-3e184720f3d0",
        "colab": {
          "base_uri": "https://localhost:8080/",
          "height": 35
        }
      },
      "source": [
        "x.shape"
      ],
      "execution_count": 0,
      "outputs": [
        {
          "output_type": "execute_result",
          "data": {
            "text/plain": [
              "(3, 2)"
            ]
          },
          "metadata": {
            "tags": []
          },
          "execution_count": 25
        }
      ]
    },
    {
      "cell_type": "code",
      "metadata": {
        "id": "pJfTvRyh61Jo",
        "colab_type": "code",
        "colab": {}
      },
      "source": [
        "model = models.Sequential()\n",
        "model.add(layers.Dense(32, input_shape=(784,)))\n",
        "model.add(layers.Dense(32))"
      ],
      "execution_count": 0,
      "outputs": []
    },
    {
      "cell_type": "code",
      "metadata": {
        "id": "0f68pOltS5BD",
        "colab_type": "code",
        "outputId": "9abfc7e7-814d-4f03-f800-c0fef754de82",
        "colab": {
          "base_uri": "https://localhost:8080/",
          "height": 121
        }
      },
      "source": [
        "tf.keras.utils.plot_model(\n",
        "    model, \n",
        "    # to_file='model.png', \n",
        "    show_shapes=True, \n",
        "    show_layer_names=False,\n",
        "    rankdir='LR', # LR TB\n",
        "    expand_nested=True, \n",
        "    dpi=96\n",
        ")"
      ],
      "execution_count": 0,
      "outputs": [
        {
          "output_type": "execute_result",
          "data": {
            "image/png": "[encoded data removed]",
            "text/plain": [
              "<IPython.core.display.Image object>"
            ]
          },
          "metadata": {
            "tags": []
          },
          "execution_count": 27
        }
      ]
    },
    {
      "cell_type": "markdown",
      "metadata": {
        "id": "RD57wRr29dVq",
        "colab_type": "text"
      },
      "source": [
        "# Chapter 3: Getting started with NN"
      ]
    },
    {
      "cell_type": "code",
      "metadata": {
        "colab_type": "code",
        "id": "aOjG_u1IDXHS",
        "outputId": "ac7a4b46-e391-4251-f904-865d7006730a",
        "colab": {
          "base_uri": "https://localhost:8080/",
          "height": 360
        }
      },
      "source": [
        "# Sequential API\n",
        "model = models.Sequential()\n",
        "model.add(layers.Dense(32, activation='relu', input_shape=(784,)))\n",
        "model.add(layers.Dense(10, activation='softmax'))\n",
        "print(model.summary())\n",
        "tf.keras.utils.plot_model(\n",
        "    model, \n",
        "    # to_file='model.png', \n",
        "    show_shapes=True, \n",
        "    show_layer_names=False,\n",
        "    rankdir='LR', # LR TB\n",
        "    expand_nested=True, \n",
        "    dpi=96\n",
        ")"
      ],
      "execution_count": 0,
      "outputs": [
        {
          "output_type": "stream",
          "text": [
            "Model: \"sequential_3\"\n",
            "_________________________________________________________________\n",
            "Layer (type)                 Output Shape              Param #   \n",
            "=================================================================\n",
            "dense_8 (Dense)              (None, 32)                25120     \n",
            "_________________________________________________________________\n",
            "dense_9 (Dense)              (None, 10)                330       \n",
            "=================================================================\n",
            "Total params: 25,450\n",
            "Trainable params: 25,450\n",
            "Non-trainable params: 0\n",
            "_________________________________________________________________\n",
            "None\n"
          ],
          "name": "stdout"
        },
        {
          "output_type": "execute_result",
          "data": {
            "image/png": "[encoded data removed]",
            "text/plain": [
              "<IPython.core.display.Image object>"
            ]
          },
          "metadata": {
            "tags": []
          },
          "execution_count": 28
        }
      ]
    },
    {
      "cell_type": "code",
      "metadata": {
        "id": "yQB9IjnyDt-4",
        "colab_type": "code",
        "outputId": "99d3e548-1373-4fa9-957e-27d13b6adbc2",
        "colab": {
          "base_uri": "https://localhost:8080/",
          "height": 121
        }
      },
      "source": [
        "# functional API\n",
        "input_tensor = layers.Input(shape=(784,))\n",
        "x = layers.Dense(32, activation='relu')(input_tensor)\n",
        "output_tensor = layers.Dense(10, activation='softmax')(x)\n",
        "model = models.Model(inputs=input_tensor, outputs=output_tensor)\n",
        "tf.keras.utils.plot_model(\n",
        "    model, \n",
        "    # to_file='model.png', \n",
        "    show_shapes=True, \n",
        "    show_layer_names=False,\n",
        "    rankdir='LR', # LR TB\n",
        "    expand_nested=True, \n",
        "    dpi=96\n",
        ")"
      ],
      "execution_count": 0,
      "outputs": [
        {
          "output_type": "execute_result",
          "data": {
            "image/png": "[encoded data removed]",
            "text/plain": [
              "<IPython.core.display.Image object>"
            ]
          },
          "metadata": {
            "tags": []
          },
          "execution_count": 29
        }
      ]
    },
    {
      "cell_type": "markdown",
      "metadata": {
        "id": "RdX5I9YsLjzM",
        "colab_type": "text"
      },
      "source": [
        "## 3.4: Classifying movie reviews: a binary classification example\n"
      ]
    },
    {
      "cell_type": "markdown",
      "metadata": {
        "id": "H2GYKLPDL43R",
        "colab_type": "text"
      },
      "source": [
        "IMDB dataset has already been preprocessed: the reviews (sequences of words) have been turned into sequences of integers, where each integer stands for a specific word in a dictionary. "
      ]
    },
    {
      "cell_type": "code",
      "metadata": {
        "id": "Qr_LbXhLEmyH",
        "colab_type": "code",
        "outputId": "2b9d9a0b-d358-445d-e475-7758a837ca50",
        "colab": {
          "base_uri": "https://localhost:8080/",
          "height": 54
        }
      },
      "source": [
        "from tensorflow.keras.datasets import imdb\n",
        "(train_data, train_labels), (test_data, test_labels) = imdb.load_data(num_words=10000)"
      ],
      "execution_count": 0,
      "outputs": [
        {
          "output_type": "stream",
          "text": [
            "Downloading data from https://storage.googleapis.com/tensorflow/tf-keras-datasets/imdb.npz\n",
            "17465344/17464789 [==============================] - 1s 0us/step\n"
          ],
          "name": "stdout"
        }
      ]
    },
    {
      "cell_type": "markdown",
      "metadata": {
        "id": "dlphZ8p2T1j1",
        "colab_type": "text"
      },
      "source": [
        "The argument num_words=10000 means you’ll only keep the top 10,000 most frequently occurring words in the training data. Rare words will be discarded. This allows you to work with vector data of manageable size. The variables train_data and test_data are lists of reviews; each review is a list of\n",
        "word indices (encoding a sequence of words). train_labels and test_labels are\n",
        "lists of 0s and 1s, where 0 stands for negative and 1 stands for positive"
      ]
    },
    {
      "cell_type": "code",
      "metadata": {
        "id": "QxmVHPgnLypd",
        "colab_type": "code",
        "outputId": "80361554-8a8a-4e77-9abb-325be5de859c",
        "colab": {
          "base_uri": "https://localhost:8080/",
          "height": 92
        }
      },
      "source": [
        "print(train_data[0])\n",
        "print(len(train_data[0]))\n",
        "print(train_labels[0])"
      ],
      "execution_count": 0,
      "outputs": [
        {
          "output_type": "stream",
          "text": [
            "[1, 14, 22, 16, 43, 530, 973, 1622, 1385, 65, 458, 4468, 66, 3941, 4, 173, 36, 256, 5, 25, 100, 43, 838, 112, 50, 670, 2, 9, 35, 480, 284, 5, 150, 4, 172, 112, 167, 2, 336, 385, 39, 4, 172, 4536, 1111, 17, 546, 38, 13, 447, 4, 192, 50, 16, 6, 147, 2025, 19, 14, 22, 4, 1920, 4613, 469, 4, 22, 71, 87, 12, 16, 43, 530, 38, 76, 15, 13, 1247, 4, 22, 17, 515, 17, 12, 16, 626, 18, 2, 5, 62, 386, 12, 8, 316, 8, 106, 5, 4, 2223, 5244, 16, 480, 66, 3785, 33, 4, 130, 12, 16, 38, 619, 5, 25, 124, 51, 36, 135, 48, 25, 1415, 33, 6, 22, 12, 215, 28, 77, 52, 5, 14, 407, 16, 82, 2, 8, 4, 107, 117, 5952, 15, 256, 4, 2, 7, 3766, 5, 723, 36, 71, 43, 530, 476, 26, 400, 317, 46, 7, 4, 2, 1029, 13, 104, 88, 4, 381, 15, 297, 98, 32, 2071, 56, 26, 141, 6, 194, 7486, 18, 4, 226, 22, 21, 134, 476, 26, 480, 5, 144, 30, 5535, 18, 51, 36, 28, 224, 92, 25, 104, 4, 226, 65, 16, 38, 1334, 88, 12, 16, 283, 5, 16, 4472, 113, 103, 32, 15, 16, 5345, 19, 178, 32]\n",
            "218\n",
            "1\n"
          ],
          "name": "stdout"
        }
      ]
    },
    {
      "cell_type": "markdown",
      "metadata": {
        "id": "K2L10W14UWcK",
        "colab_type": "text"
      },
      "source": [
        "For kicks, here’s how you can quickly decode one of these reviews back to English words:\n",
        "```Python\n",
        "word_index = imdb.get_word_index()\n",
        "reverse_word_index = dict([(value, key) for (key, value) in word_index.items()])\n",
        "decoded_review = ' '.join([reverse_word_index.get(i - 3, '?') for i in train_data[0]]) # Decodes the review. \n",
        "# Note that the indices are offset by 3 because 0, 1, and 2 are\n",
        "# reserved indices for “padding,” “start of\n",
        "# sequence,” and “unknown.”\n",
        "```"
      ]
    },
    {
      "cell_type": "code",
      "metadata": {
        "id": "6xccc9c1UGsf",
        "colab_type": "code",
        "outputId": "9a82144a-0f6c-4155-bc49-ceb7a80f758f",
        "colab": {
          "base_uri": "https://localhost:8080/",
          "height": 92
        }
      },
      "source": [
        "# decoding first review\n",
        "word_index = imdb.get_word_index()\n",
        "reverse_word_index = dict([(value, key) for (key, value) in word_index.items()])\n",
        "decoded_review = ' '.join([reverse_word_index.get(i - 3, '?') for i in train_data[0]])\n",
        "print(decoded_review)"
      ],
      "execution_count": 0,
      "outputs": [
        {
          "output_type": "stream",
          "text": [
            "Downloading data from https://storage.googleapis.com/tensorflow/tf-keras-datasets/imdb_word_index.json\n",
            "1646592/1641221 [==============================] - 0s 0us/step\n",
            "? this film was just brilliant casting location scenery story direction everyone's really suited the part they played and you could just imagine being there robert ? is an amazing actor and now the same being director ? father came from the same scottish island as myself so i loved the fact there was a real connection with this film the witty remarks throughout the film were great it was just brilliant so much that i bought the film as soon as it was released for ? and would recommend it to everyone to watch and the fly fishing was amazing really cried at the end it was so sad and you know what they say if you cry at a film it must have been good and this definitely was also ? to the two little boy's that played the ? of norman and paul they were just brilliant children are often left out of the ? list i think because the stars that play them all grown up are such a big profile for the whole film but these children are amazing and should be praised for what they have done don't you think the whole story was so lovely because it was true and was someone's life after all that was shared with us all\n"
          ],
          "name": "stdout"
        }
      ]
    },
    {
      "cell_type": "markdown",
      "metadata": {
        "id": "4qtpWds-VhIL",
        "colab_type": "text"
      },
      "source": [
        "### 3.4.2 Preparing Data\n",
        "You can’t feed lists of integers into a neural network. You have to turn your lists into\n",
        "tensors. There are two ways to do that:\n",
        "* **Pad your lists** so that they all have the same length, turn them into an integer\n",
        "tensor of shape (samples, word_indices), and then use as the first layer in\n",
        "your network a layer capable of handling such integer tensors (the Embedding\n",
        "layer, which we’ll cover in detail later in the book).\n",
        "* **One-hot** encode your lists to turn them into vectors of 0s and 1s. This would\n",
        "mean, for instance, turning the sequence [3, 5] into a 10,000-dimensional vector that would be all 0s except for indices 3 and 5, which would be 1s. Then you\n",
        "could use as the first layer in your network a Dense layer, capable of handling\n",
        "floating-point vector data.\n",
        "Let’s go with the latter solution to vectorize the data, which you’ll do manually for\n",
        "maximum clarity."
      ]
    },
    {
      "cell_type": "code",
      "metadata": {
        "id": "OgiZCv5hUlgj",
        "colab_type": "code",
        "outputId": "496a4a37-acb0-4c58-dd63-10bd81ab9637",
        "colab": {
          "base_uri": "https://localhost:8080/",
          "height": 54
        }
      },
      "source": [
        "# Encoding the integer sequences into a binary matrix\n",
        "def vectorize_sequences(sequences, dimension=10000):\n",
        "    results = np.zeros((len(sequences), dimension))\n",
        "    for i, sequence in enumerate(sequences):\n",
        "        results[i, sequence] = 1.\n",
        "    return results\n",
        "\n",
        "x_train = vectorize_sequences(train_data)\n",
        "x_test = vectorize_sequences(test_data)\n",
        "print(x_train[0])\n",
        "\n",
        "# vectorize labels\n",
        "y_train = np.asarray(train_labels).astype('float32')\n",
        "y_test = np.asarray(test_labels).astype('float32')\n",
        "print(y_train[0])"
      ],
      "execution_count": 0,
      "outputs": [
        {
          "output_type": "stream",
          "text": [
            "[0. 1. 1. ... 0. 0. 0.]\n",
            "1.0\n"
          ],
          "name": "stdout"
        }
      ]
    },
    {
      "cell_type": "markdown",
      "metadata": {
        "id": "M6Glm0C2WOnL",
        "colab_type": "text"
      },
      "source": [
        "### 3.4.3 Building Ntework"
      ]
    },
    {
      "cell_type": "code",
      "metadata": {
        "id": "sz8CGn05XNKJ",
        "colab_type": "code",
        "outputId": "1d90daf6-bcc4-46a8-8787-603268e8c8fd",
        "colab": {
          "base_uri": "https://localhost:8080/",
          "height": 274
        }
      },
      "source": [
        "model = models.Sequential()\n",
        "model.add(layers.Dense(16, activation='relu', input_shape=(10000,)))\n",
        "model.add(layers.Dense(16, activation='relu'))\n",
        "model.add(layers.Dense(1, activation='sigmoid'))\n",
        "model.summary()"
      ],
      "execution_count": 0,
      "outputs": [
        {
          "output_type": "stream",
          "text": [
            "Model: \"sequential_4\"\n",
            "_________________________________________________________________\n",
            "Layer (type)                 Output Shape              Param #   \n",
            "=================================================================\n",
            "dense_12 (Dense)             (None, 16)                160016    \n",
            "_________________________________________________________________\n",
            "dense_13 (Dense)             (None, 16)                272       \n",
            "_________________________________________________________________\n",
            "dense_14 (Dense)             (None, 1)                 17        \n",
            "=================================================================\n",
            "Total params: 160,305\n",
            "Trainable params: 160,305\n",
            "Non-trainable params: 0\n",
            "_________________________________________________________________\n"
          ],
          "name": "stdout"
        }
      ]
    },
    {
      "cell_type": "code",
      "metadata": {
        "id": "M8pYeEAjb72U",
        "colab_type": "code",
        "colab": {}
      },
      "source": [
        "model.compile(optimizer='rmsprop',\n",
        "              loss='binary_crossentropy',\n",
        "              metrics=['accuracy'])"
      ],
      "execution_count": 0,
      "outputs": []
    },
    {
      "cell_type": "markdown",
      "metadata": {
        "id": "4ubP8oWwncnm",
        "colab_type": "text"
      },
      "source": [
        "You’re passing your optimizer, loss function, and metrics as strings, which is possible because rmsprop, binary_crossentropy, and accuracy are packaged as part of Keras. Sometimes you may want to configure the parameters of your optimizer or pass a custom loss function or metric function. "
      ]
    },
    {
      "cell_type": "code",
      "metadata": {
        "id": "szyKN4T3lb6i",
        "colab_type": "code",
        "colab": {}
      },
      "source": [
        "# another way to compile model\n",
        "from tensorflow.keras import optimizers, losses, metrics\n",
        "model.compile(optimizer=optimizers.RMSprop(lr=0.001),\n",
        "              loss=losses.binary_crossentropy, \n",
        "              metrics=[metrics.binary_accuracy])"
      ],
      "execution_count": 0,
      "outputs": []
    },
    {
      "cell_type": "markdown",
      "metadata": {
        "id": "aklscnAnWW6z",
        "colab_type": "text"
      },
      "source": [
        "### 3.4.4 Validating approach"
      ]
    },
    {
      "cell_type": "code",
      "metadata": {
        "id": "7lzI0e8VmVRE",
        "colab_type": "code",
        "colab": {}
      },
      "source": [
        "# validating your approach\n",
        "x_val = x_train[:10000]\n",
        "partial_x_train = x_train[10000:]\n",
        "y_val = y_train[:10000]\n",
        "partial_y_train = y_train[10000:]"
      ],
      "execution_count": 0,
      "outputs": []
    },
    {
      "cell_type": "code",
      "metadata": {
        "id": "K2deLpnRmlPp",
        "colab_type": "code",
        "outputId": "0e6f9026-8179-493d-d62c-084fb9f9c60c",
        "colab": {
          "base_uri": "https://localhost:8080/",
          "height": 772
        }
      },
      "source": [
        "# training with train and validation data\n",
        "history = model.fit(partial_x_train,\n",
        "                    partial_y_train,\n",
        "                    epochs=20,\n",
        "                    batch_size=512,\n",
        "                    validation_data=(x_val, y_val))"
      ],
      "execution_count": 0,
      "outputs": [
        {
          "output_type": "stream",
          "text": [
            "Epoch 1/20\n",
            "30/30 [==============================] - 1s 41ms/step - loss: 0.5149 - binary_accuracy: 0.7819 - val_loss: 0.3786 - val_binary_accuracy: 0.8683\n",
            "Epoch 2/20\n",
            "30/30 [==============================] - 1s 39ms/step - loss: 0.2919 - binary_accuracy: 0.9032 - val_loss: 0.3195 - val_binary_accuracy: 0.8730\n",
            "Epoch 3/20\n",
            "30/30 [==============================] - 1s 39ms/step - loss: 0.2162 - binary_accuracy: 0.9261 - val_loss: 0.3014 - val_binary_accuracy: 0.8775\n",
            "Epoch 4/20\n",
            "30/30 [==============================] - 1s 37ms/step - loss: 0.1669 - binary_accuracy: 0.9463 - val_loss: 0.2992 - val_binary_accuracy: 0.8830\n",
            "Epoch 5/20\n",
            "30/30 [==============================] - 1s 38ms/step - loss: 0.1300 - binary_accuracy: 0.9597 - val_loss: 0.2911 - val_binary_accuracy: 0.8851\n",
            "Epoch 6/20\n",
            "30/30 [==============================] - 1s 38ms/step - loss: 0.1136 - binary_accuracy: 0.9620 - val_loss: 0.3155 - val_binary_accuracy: 0.8845\n",
            "Epoch 7/20\n",
            "30/30 [==============================] - 1s 38ms/step - loss: 0.0943 - binary_accuracy: 0.9719 - val_loss: 0.3645 - val_binary_accuracy: 0.8703\n",
            "Epoch 8/20\n",
            "30/30 [==============================] - 1s 38ms/step - loss: 0.0763 - binary_accuracy: 0.9770 - val_loss: 0.3571 - val_binary_accuracy: 0.8740\n",
            "Epoch 9/20\n",
            "30/30 [==============================] - 1s 38ms/step - loss: 0.0627 - binary_accuracy: 0.9821 - val_loss: 0.3663 - val_binary_accuracy: 0.8823\n",
            "Epoch 10/20\n",
            "30/30 [==============================] - 1s 38ms/step - loss: 0.0501 - binary_accuracy: 0.9870 - val_loss: 0.3938 - val_binary_accuracy: 0.8805\n",
            "Epoch 11/20\n",
            "30/30 [==============================] - 1s 34ms/step - loss: 0.0436 - binary_accuracy: 0.9896 - val_loss: 0.4283 - val_binary_accuracy: 0.8714\n",
            "Epoch 12/20\n",
            "30/30 [==============================] - 1s 33ms/step - loss: 0.0316 - binary_accuracy: 0.9931 - val_loss: 0.4802 - val_binary_accuracy: 0.8639\n",
            "Epoch 13/20\n",
            "30/30 [==============================] - 1s 33ms/step - loss: 0.0289 - binary_accuracy: 0.9938 - val_loss: 0.5328 - val_binary_accuracy: 0.8589\n",
            "Epoch 14/20\n",
            "30/30 [==============================] - 1s 32ms/step - loss: 0.0234 - binary_accuracy: 0.9951 - val_loss: 0.5189 - val_binary_accuracy: 0.8725\n",
            "Epoch 15/20\n",
            "30/30 [==============================] - 1s 33ms/step - loss: 0.0198 - binary_accuracy: 0.9953 - val_loss: 0.5447 - val_binary_accuracy: 0.8724\n",
            "Epoch 16/20\n",
            "30/30 [==============================] - 1s 33ms/step - loss: 0.0143 - binary_accuracy: 0.9976 - val_loss: 0.5763 - val_binary_accuracy: 0.8705\n",
            "Epoch 17/20\n",
            "30/30 [==============================] - 1s 33ms/step - loss: 0.0089 - binary_accuracy: 0.9995 - val_loss: 0.6868 - val_binary_accuracy: 0.8618\n",
            "Epoch 18/20\n",
            "30/30 [==============================] - 1s 34ms/step - loss: 0.0092 - binary_accuracy: 0.9989 - val_loss: 0.6547 - val_binary_accuracy: 0.8665\n",
            "Epoch 19/20\n",
            "30/30 [==============================] - 1s 38ms/step - loss: 0.0095 - binary_accuracy: 0.9977 - val_loss: 0.6825 - val_binary_accuracy: 0.8675\n",
            "Epoch 20/20\n",
            "30/30 [==============================] - 1s 34ms/step - loss: 0.0036 - binary_accuracy: 0.9999 - val_loss: 0.7234 - val_binary_accuracy: 0.8628\n"
          ],
          "name": "stdout"
        }
      ]
    },
    {
      "cell_type": "code",
      "metadata": {
        "id": "gnZHxZainK_t",
        "colab_type": "code",
        "outputId": "f2837cac-c241-4db7-e99e-ff89b7c29353",
        "colab": {
          "base_uri": "https://localhost:8080/",
          "height": 54
        }
      },
      "source": [
        "print(history)\n",
        "history_dict = history.history\n",
        "print(history_dict.keys())"
      ],
      "execution_count": 0,
      "outputs": [
        {
          "output_type": "stream",
          "text": [
            "<tensorflow.python.keras.callbacks.History object at 0x7f204e18a5c0>\n",
            "dict_keys(['loss', 'binary_accuracy', 'val_loss', 'val_binary_accuracy'])\n"
          ],
          "name": "stdout"
        }
      ]
    },
    {
      "cell_type": "code",
      "metadata": {
        "id": "abSpYBR1nzV8",
        "colab_type": "code",
        "outputId": "0879c459-6500-4df4-d9d3-6adf3ea4dee9",
        "colab": {
          "base_uri": "https://localhost:8080/",
          "height": 55
        }
      },
      "source": [
        "print(history_dict)"
      ],
      "execution_count": 0,
      "outputs": [
        {
          "output_type": "stream",
          "text": [
            "{'loss': [0.514926552772522, 0.29188019037246704, 0.21621964871883392, 0.16687588393688202, 0.13001854717731476, 0.11363185942173004, 0.09425733238458633, 0.07631728798151016, 0.06271518021821976, 0.050050392746925354, 0.04357530549168587, 0.03156124800443649, 0.028880834579467773, 0.023377766832709312, 0.019846664741635323, 0.014327718876302242, 0.008881201036274433, 0.009182359091937542, 0.009523320943117142, 0.003555469447746873], 'binary_accuracy': [0.7819333076477051, 0.9031999707221985, 0.9260666370391846, 0.9462666511535645, 0.9596666693687439, 0.9620000123977661, 0.9718666672706604, 0.9769999980926514, 0.9821333289146423, 0.9869999885559082, 0.9896000027656555, 0.9931333065032959, 0.9937999844551086, 0.9950666427612305, 0.9952666759490967, 0.9976000189781189, 0.9995333552360535, 0.9988666772842407, 0.9976666569709778, 0.9998666644096375], 'val_loss': [0.3786444067955017, 0.319524884223938, 0.30143114924430847, 0.2992081940174103, 0.2911285161972046, 0.315538227558136, 0.3645297884941101, 0.3571130335330963, 0.3662716746330261, 0.39380258321762085, 0.4282507300376892, 0.4801958203315735, 0.5327927470207214, 0.5188533067703247, 0.5446925759315491, 0.5763489007949829, 0.6868189573287964, 0.6547318696975708, 0.6825029253959656, 0.7234325408935547], 'val_binary_accuracy': [0.8683000206947327, 0.8730000257492065, 0.8774999976158142, 0.8830000162124634, 0.8851000070571899, 0.8845000267028809, 0.8702999949455261, 0.8740000128746033, 0.8823000192642212, 0.8805000185966492, 0.871399998664856, 0.8639000058174133, 0.8589000105857849, 0.8725000023841858, 0.8723999857902527, 0.8705000281333923, 0.8618000149726868, 0.8665000200271606, 0.8675000071525574, 0.8628000020980835]}\n"
          ],
          "name": "stdout"
        }
      ]
    },
    {
      "cell_type": "code",
      "metadata": {
        "id": "N5AbgNzbn1qh",
        "colab_type": "code",
        "outputId": "45c4a0f0-34dd-4fb4-b211-daa36044421d",
        "colab": {
          "base_uri": "https://localhost:8080/",
          "height": 295
        }
      },
      "source": [
        "# plotting training and validation loss\n",
        "import matplotlib.pyplot as plt\n",
        "history_dict = history.history\n",
        "loss_values = history_dict['loss']\n",
        "val_loss_values = history_dict['val_loss']\n",
        "epochs = range(1, len(history_dict['loss']) + 1)\n",
        "plt.plot(epochs, loss_values, 'bo', label='Training loss')\n",
        "plt.plot(epochs, val_loss_values, 'b', label='Validation loss')\n",
        "plt.title('Training and validation loss')\n",
        "plt.xlabel('Epochs')\n",
        "plt.ylabel('Loss')\n",
        "plt.legend()\n",
        "plt.show()"
      ],
      "execution_count": 0,
      "outputs": [
        {
          "output_type": "display_data",
          "data": {
            "image/png": "[encoded data removed]",
            "text/plain": [
              "<Figure size 432x288 with 1 Axes>"
            ]
          },
          "metadata": {
            "tags": [],
            "needs_background": "light"
          }
        }
      ]
    },
    {
      "cell_type": "code",
      "metadata": {
        "id": "NI9i0ffNoOsg",
        "colab_type": "code",
        "outputId": "e43e8025-6ac6-46df-8db0-8519eb40f992",
        "colab": {
          "base_uri": "https://localhost:8080/",
          "height": 295
        }
      },
      "source": [
        "# plotting training and validation accuracy\n",
        "plt.clf()\n",
        "acc_values = history_dict['binary_accuracy']\n",
        "val_acc_values = history_dict['val_binary_accuracy']\n",
        "plt.plot(epochs, acc_values, 'bo', label='Training acc')\n",
        "plt.plot(epochs, val_acc_values, 'b', label='Validation acc')\n",
        "plt.title('Training and validation accuracy')\n",
        "plt.xlabel('Epochs')\n",
        "plt.ylabel('Loss')\n",
        "plt.legend()\n",
        "plt.show()"
      ],
      "execution_count": 0,
      "outputs": [
        {
          "output_type": "display_data",
          "data": {
            "image/png": "[encoded data removed]",
            "text/plain": [
              "<Figure size 432x288 with 1 Axes>"
            ]
          },
          "metadata": {
            "tags": [],
            "needs_background": "light"
          }
        }
      ]
    },
    {
      "cell_type": "markdown",
      "metadata": {
        "id": "KLywNbldpcS0",
        "colab_type": "text"
      },
      "source": [
        "As you can see, the training loss decreases with every epoch, and the training accuracy increases with every epoch. That’s what you would expect when running gradientdescent optimization—the quantity you’re trying to minimize should be less with every iteration. But that isn’t the case for the validation loss and accuracy: they seem to peak at the fourth epoch. This is an example of what we warned against earlier: a model that performs better on the training data isn’t necessarily a model that will do better on data it has never seen before. In precise terms, what you’re seeing is overfitting: after the second epoch, you’re overoptimizing on the training data, and you end up learning representations that are specific to the training data and don’t generalize\n",
        "to data outside of the training set. <br>\n",
        "In this case, to prevent overfitting, you could stop training after three epochs. In general, you can use a range of techniques to mitigate overfitting.\n",
        "Let’s train a new network from scratch for four epochs and then evaluate it on the test data."
      ]
    },
    {
      "cell_type": "code",
      "metadata": {
        "id": "7qcx-oWFo8M3",
        "colab_type": "code",
        "outputId": "11bd200b-66a9-4ecd-a427-1e3d4cb95a41",
        "colab": {
          "base_uri": "https://localhost:8080/",
          "height": 201
        }
      },
      "source": [
        "model = models.Sequential()\n",
        "model.add(layers.Dense(16, activation='relu', input_shape=(10000,)))\n",
        "model.add(layers.Dense(16, activation='relu'))\n",
        "model.add(layers.Dense(1, activation='sigmoid'))\n",
        "model.compile(optimizer='rmsprop',\n",
        "              loss='binary_crossentropy',\n",
        "              metrics=['accuracy'])\n",
        "model.fit(x_train, y_train, epochs=4, batch_size=512)\n",
        "results = model.evaluate(x_test, y_test)\n",
        "print(results)"
      ],
      "execution_count": 0,
      "outputs": [
        {
          "output_type": "stream",
          "text": [
            "Epoch 1/4\n",
            "49/49 [==============================] - 1s 24ms/step - loss: 0.4426 - accuracy: 0.8316\n",
            "Epoch 2/4\n",
            "49/49 [==============================] - 1s 24ms/step - loss: 0.2587 - accuracy: 0.9093\n",
            "Epoch 3/4\n",
            "49/49 [==============================] - 1s 23ms/step - loss: 0.1978 - accuracy: 0.9304\n",
            "Epoch 4/4\n",
            "49/49 [==============================] - 1s 23ms/step - loss: 0.1674 - accuracy: 0.9397\n",
            "782/782 [==============================] - 1s 1ms/step - loss: 0.3012 - accuracy: 0.8815\n",
            "[0.30123022198677063, 0.8814799785614014]\n"
          ],
          "name": "stdout"
        }
      ]
    },
    {
      "cell_type": "markdown",
      "metadata": {
        "id": "Sjp0FvSZW-6l",
        "colab_type": "text"
      },
      "source": [
        "### 3.4.5 Generate Predictions"
      ]
    },
    {
      "cell_type": "code",
      "metadata": {
        "id": "KkU9htA5puaz",
        "colab_type": "code",
        "outputId": "1743ae04-7f81-48a7-f835-9ea44ad8cca6",
        "colab": {
          "base_uri": "https://localhost:8080/",
          "height": 146
        }
      },
      "source": [
        "preds = model.predict(x_test)\n",
        "print(preds)"
      ],
      "execution_count": 0,
      "outputs": [
        {
          "output_type": "stream",
          "text": [
            "[[0.2411753 ]\n",
            " [0.999912  ]\n",
            " [0.96983546]\n",
            " ...\n",
            " [0.16105926]\n",
            " [0.11431965]\n",
            " [0.6751374 ]]\n"
          ],
          "name": "stdout"
        }
      ]
    },
    {
      "cell_type": "code",
      "metadata": {
        "id": "6YGTFMnxp2Hs",
        "colab_type": "code",
        "outputId": "a56e89ca-26f4-4227-eaf8-93442ce76527",
        "colab": {
          "base_uri": "https://localhost:8080/",
          "height": 146
        }
      },
      "source": [
        "preds>0.5"
      ],
      "execution_count": 0,
      "outputs": [
        {
          "output_type": "execute_result",
          "data": {
            "text/plain": [
              "array([[False],\n",
              "       [ True],\n",
              "       [ True],\n",
              "       ...,\n",
              "       [False],\n",
              "       [False],\n",
              "       [ True]])"
            ]
          },
          "metadata": {
            "tags": []
          },
          "execution_count": 45
        }
      ]
    },
    {
      "cell_type": "markdown",
      "metadata": {
        "id": "br_2berYG22U",
        "colab_type": "text"
      },
      "source": [
        "### 3.4.6 Some Experiments\n",
        "The following experiments will help convince you that the architecture choices you’ve made are all fairly reasonable, although there’s still room for improvement:\n",
        "* You used two hidden layers. Try using one or three hidden layers, and see how\n",
        "doing so affects validation and test accuracy.\n",
        "* Try using layers with more hidden units or fewer hidden units: 32 units, 64 units, and so on.\n",
        "* Try using the mse loss function instead of binary_crossentropy.\n",
        "* Try using the tanh activation (an activation that was popular in the early days of neural networks) instead of relu."
      ]
    },
    {
      "cell_type": "markdown",
      "metadata": {
        "id": "z3IDF_I9HHXE",
        "colab_type": "text"
      },
      "source": [
        "### 3.4.7 Wrapping Up\n",
        "Here’s what you should take away from this example:\n",
        "* You usually need to do quite a bit of preprocessing on your raw data in order to be able to feed it—as tensors—into a neural network. Sequences of words can\n",
        "be encoded as binary vectors, but there are other encoding options, too.\n",
        "* Stacks of Dense layers with relu activations can solve a wide range of problems\n",
        "(including sentiment classification), and you’ll likely use them frequently.\n",
        "* In a binary classification problem (two output classes), your network should\n",
        "end with a Dense layer with one unit and a sigmoid activation: the output of\n",
        "your network should be a scalar between 0 and 1, encoding a probability.\n",
        "* With such a scalar sigmoid output on a binary classification problem, the loss\n",
        "function you should use is binary_crossentropy.\n",
        "* The rmsprop optimizer is generally a good enough choice, whatever your problem. That’s one less thing for you to worry about.\n",
        "* As they get better on their training data, neural networks eventually start overfitting and end up obtaining increasingly worse results on data they’ve never seen before. Be sure to always monitor performance on data that is outside of the training set."
      ]
    },
    {
      "cell_type": "markdown",
      "metadata": {
        "id": "c0hnAIPsqv3y",
        "colab_type": "text"
      },
      "source": [
        "## 3.5: Classifying newswires: a multiclass classification example\n",
        "In this section, you’ll build a network to classify Reuters newswires into 46 mutually exclusive topics. Because you have many classes, this problem is an instance of multiclass classification; and because each data point should be classified into only one category, the problem is more specifically an instance of single-label, multiclass classification. <br>\n",
        "If each data point could belong to multiple categories (in this case, topics), you’d be facing a multilabel, multiclass classification problem."
      ]
    },
    {
      "cell_type": "code",
      "metadata": {
        "id": "TV0swDOUqFq8",
        "colab_type": "code",
        "outputId": "7fb5f9e5-6628-4f37-f4b4-2333e4c42849",
        "colab": {
          "base_uri": "https://localhost:8080/",
          "height": 54
        }
      },
      "source": [
        "from tensorflow.keras.datasets import reuters\n",
        "(train_data, train_labels), (test_data, test_labels) = reuters.load_data(num_words=10000)"
      ],
      "execution_count": 0,
      "outputs": [
        {
          "output_type": "stream",
          "text": [
            "Downloading data from https://storage.googleapis.com/tensorflow/tf-keras-datasets/reuters.npz\n",
            "2113536/2110848 [==============================] - 0s 0us/step\n"
          ],
          "name": "stdout"
        }
      ]
    },
    {
      "cell_type": "code",
      "metadata": {
        "id": "s8xets97K7ny",
        "colab_type": "code",
        "outputId": "2c38e93e-d998-4df5-9937-ed03627f73f0",
        "colab": {
          "base_uri": "https://localhost:8080/",
          "height": 90
        }
      },
      "source": [
        "print(f\"train_data.shape - {train_data.shape}\")\n",
        "print(f\"train_labels.shape - {train_labels.shape}\")\n",
        "print(f\"test_data.shape - {test_data.shape}\")\n",
        "print(f\"test_labels.shape - {test_labels.shape}\")"
      ],
      "execution_count": 0,
      "outputs": [
        {
          "output_type": "stream",
          "text": [
            "train_data.shape - (8982,)\n",
            "train_labels.shape - (8982,)\n",
            "test_data.shape - (2246,)\n",
            "test_labels.shape - (2246,)\n"
          ],
          "name": "stdout"
        }
      ]
    },
    {
      "cell_type": "code",
      "metadata": {
        "id": "yM-1wOaiM3Y-",
        "colab_type": "code",
        "outputId": "b0bb2440-ff0d-4710-8503-8c1af0abc67b",
        "colab": {
          "base_uri": "https://localhost:8080/",
          "height": 55
        }
      },
      "source": [
        "print(train_data[0])"
      ],
      "execution_count": 0,
      "outputs": [
        {
          "output_type": "stream",
          "text": [
            "[1, 2, 2, 8, 43, 10, 447, 5, 25, 207, 270, 5, 3095, 111, 16, 369, 186, 90, 67, 7, 89, 5, 19, 102, 6, 19, 124, 15, 90, 67, 84, 22, 482, 26, 7, 48, 4, 49, 8, 864, 39, 209, 154, 6, 151, 6, 83, 11, 15, 22, 155, 11, 15, 7, 48, 9, 4579, 1005, 504, 6, 258, 6, 272, 11, 15, 22, 134, 44, 11, 15, 16, 8, 197, 1245, 90, 67, 52, 29, 209, 30, 32, 132, 6, 109, 15, 17, 12]\n"
          ],
          "name": "stdout"
        }
      ]
    },
    {
      "cell_type": "code",
      "metadata": {
        "id": "VzVSCvBeNLxX",
        "colab_type": "code",
        "outputId": "3c48b048-74ef-48c7-feb9-98b278ca2bde",
        "colab": {
          "base_uri": "https://localhost:8080/",
          "height": 92
        }
      },
      "source": [
        "# decoding to text\n",
        "word_index = reuters.get_word_index()\n",
        "reverse_word_index = dict([(value, key) for (key, value) in word_index.items()])\n",
        "decoded_newswire = ' '.join([reverse_word_index.get(i - 3, '?') for i in train_data[0]])\n",
        "print(decoded_newswire)"
      ],
      "execution_count": 0,
      "outputs": [
        {
          "output_type": "stream",
          "text": [
            "Downloading data from https://storage.googleapis.com/tensorflow/tf-keras-datasets/reuters_word_index.json\n",
            "557056/550378 [==============================] - 0s 0us/step\n",
            "? ? ? said as a result of its december acquisition of space co it expects earnings per share in 1987 of 1 15 to 1 30 dlrs per share up from 70 cts in 1986 the company said pretax net should rise to nine to 10 mln dlrs from six mln dlrs in 1986 and rental operation revenues to 19 to 22 mln dlrs from 12 5 mln dlrs it said cash flow per share this year should be 2 50 to three dlrs reuter 3\n"
          ],
          "name": "stdout"
        }
      ]
    },
    {
      "cell_type": "code",
      "metadata": {
        "id": "r6zGdT8mODIA",
        "colab_type": "code",
        "outputId": "bec9fab2-042a-4add-f2d0-b69556939724",
        "colab": {
          "base_uri": "https://localhost:8080/",
          "height": 35
        }
      },
      "source": [
        "len(np.unique(train_labels))"
      ],
      "execution_count": 0,
      "outputs": [
        {
          "output_type": "execute_result",
          "data": {
            "text/plain": [
              "46"
            ]
          },
          "metadata": {
            "tags": []
          },
          "execution_count": 50
        }
      ]
    },
    {
      "cell_type": "markdown",
      "metadata": {
        "id": "Kba9XpHNPRjo",
        "colab_type": "text"
      },
      "source": [
        "### 3.5.2 Preparing Data"
      ]
    },
    {
      "cell_type": "code",
      "metadata": {
        "id": "NWkIWCNXOPEY",
        "colab_type": "code",
        "colab": {}
      },
      "source": [
        "import numpy as np\n",
        "def vectorize_sequences(sequences, dimension=10000):\n",
        "    results = np.zeros((len(sequences), dimension))\n",
        "    for i, sequence in enumerate(sequences):\n",
        "        results[i, sequence] = 1.\n",
        "    return results\n",
        "x_train = vectorize_sequences(train_data)\n",
        "x_test = vectorize_sequences(test_data)"
      ],
      "execution_count": 0,
      "outputs": []
    },
    {
      "cell_type": "markdown",
      "metadata": {
        "id": "-L_SLMG-Pifu",
        "colab_type": "text"
      },
      "source": [
        "To vectorize the labels, there are two possibilities: you can cast the label list as an integer tensor, or you can use one-hot encoding. One-hot encoding is a widely used format for categorical data, also called categorical encoding. For a more detailed explanation of one-hot encoding, see section 6.1. In this case, one-hot encoding of the labels consists of embedding each label as an all-zero vector with a 1 in the place of the label index. Here’s an example:\n",
        "```Python\n",
        "def to_one_hot(labels, dimension=46):\n",
        "    results = np.zeros((len(labels), dimension))\n",
        "    for i, label in enumerate(labels):\n",
        "        results[i, label] = 1.\n",
        "    return results\n",
        "one_hot_train_labels = to_one_hot(train_labels)\n",
        "one_hot_test_labels = to_one_hot(test_labels)\n",
        "```\n",
        "Note that there is a built-in way to do this in Keras, which you’ve already seen in action\n",
        "in the MNIST example:\n",
        "```Python\n",
        "from keras.utils.np_utils import to_categorical\n",
        "one_hot_train_labels = to_categorical(train_labels)\n",
        "one_hot_test_labels = to_categorical(test_labels)\n",
        "```"
      ]
    },
    {
      "cell_type": "code",
      "metadata": {
        "id": "ggxz-diAPX6e",
        "colab_type": "code",
        "colab": {}
      },
      "source": [
        "from tensorflow.keras.utils import to_categorical\n",
        "one_hot_train_labels = to_categorical(train_labels)\n",
        "one_hot_test_labels = to_categorical(test_labels)"
      ],
      "execution_count": 0,
      "outputs": []
    },
    {
      "cell_type": "markdown",
      "metadata": {
        "id": "PRZ5b2jDQQKX",
        "colab_type": "text"
      },
      "source": [
        "### 3.5.3 Building Network\n",
        "This topic-classification problem looks similar to the previous movie-review classification problem: in both cases, you’re trying to classify short snippets of text. But there is a new constraint here: the number of output classes has gone from 2 to 46. The dimensionality of the output space is much larger. <br>\n",
        "In a stack of Dense layers like that you’ve been using, each layer can only access information present in the output of the previous layer. If one layer drops some information relevant to the classification problem, this information can never be recovered by later layers: each layer can potentially become an information bottleneck. In the previous example, you used 16-dimensional intermediate layers, but a 16-dimensional space may be too limited to learn to separate 46 different classes: such small layers may act as information bottlenecks, permanently dropping relevant information.\n",
        "For this reason you’ll use larger layers. Let’s go with 64 units."
      ]
    },
    {
      "cell_type": "code",
      "metadata": {
        "id": "Ey6zeTNTQPWi",
        "colab_type": "code",
        "colab": {}
      },
      "source": [
        "from tensorflow.keras import models, layers\n",
        "model = models.Sequential()\n",
        "model.add(layers.Dense(64, activation='relu', input_shape=(10000,)))\n",
        "model.add(layers.Dense(64, activation='relu'))\n",
        "model.add(layers.Dense(46, activation='softmax'))"
      ],
      "execution_count": 0,
      "outputs": []
    },
    {
      "cell_type": "markdown",
      "metadata": {
        "id": "CjDy5tDdR4RN",
        "colab_type": "text"
      },
      "source": [
        "The best loss function to use in this case is categorical_crossentropy. It measures the distance between two probability distributions: here, between the probability distribution output by the network and the true distribution of the labels. By minimizing the distance between these two distributions, you train the network to output something as close as possible to the true labels."
      ]
    },
    {
      "cell_type": "code",
      "metadata": {
        "id": "lzR2uvezQqr4",
        "colab_type": "code",
        "colab": {}
      },
      "source": [
        "model.compile(optimizer='rmsprop',\n",
        "              loss='categorical_crossentropy',\n",
        "              metrics=['accuracy'])"
      ],
      "execution_count": 0,
      "outputs": []
    },
    {
      "cell_type": "markdown",
      "metadata": {
        "id": "-HQ_nT7WSAtV",
        "colab_type": "text"
      },
      "source": [
        "### 3.5.4 Validating our approach\n",
        "Validation set"
      ]
    },
    {
      "cell_type": "code",
      "metadata": {
        "id": "F2lY_eknSAG4",
        "colab_type": "code",
        "colab": {}
      },
      "source": [
        "x_val = x_train[:1000]\n",
        "partial_x_train = x_train[1000:]\n",
        "y_val = one_hot_train_labels[:1000]\n",
        "partial_y_train = one_hot_train_labels[1000:]"
      ],
      "execution_count": 0,
      "outputs": []
    },
    {
      "cell_type": "code",
      "metadata": {
        "id": "DWOedp0zTJrs",
        "colab_type": "code",
        "outputId": "e6f6de71-2c4f-4f3d-bd54-0c87e4ebcde9",
        "colab": {
          "base_uri": "https://localhost:8080/",
          "height": 772
        }
      },
      "source": [
        "history = model.fit(partial_x_train,\n",
        "                    partial_y_train,\n",
        "                    epochs=20,\n",
        "                    batch_size=512,\n",
        "                    validation_data=(x_val, y_val))"
      ],
      "execution_count": 0,
      "outputs": [
        {
          "output_type": "stream",
          "text": [
            "Epoch 1/20\n",
            "16/16 [==============================] - 1s 46ms/step - loss: 2.6070 - accuracy: 0.5177 - val_loss: 1.7540 - val_accuracy: 0.6300\n",
            "Epoch 2/20\n",
            "16/16 [==============================] - 1s 42ms/step - loss: 1.4244 - accuracy: 0.7051 - val_loss: 1.3608 - val_accuracy: 0.6970\n",
            "Epoch 3/20\n",
            "16/16 [==============================] - 1s 43ms/step - loss: 1.0667 - accuracy: 0.7715 - val_loss: 1.1645 - val_accuracy: 0.7540\n",
            "Epoch 4/20\n",
            "16/16 [==============================] - 1s 41ms/step - loss: 0.8525 - accuracy: 0.8215 - val_loss: 1.0726 - val_accuracy: 0.7820\n",
            "Epoch 5/20\n",
            "16/16 [==============================] - 1s 42ms/step - loss: 0.6808 - accuracy: 0.8588 - val_loss: 0.9993 - val_accuracy: 0.7990\n",
            "Epoch 6/20\n",
            "16/16 [==============================] - 1s 42ms/step - loss: 0.5553 - accuracy: 0.8857 - val_loss: 0.9515 - val_accuracy: 0.8100\n",
            "Epoch 7/20\n",
            "16/16 [==============================] - 1s 42ms/step - loss: 0.4479 - accuracy: 0.9075 - val_loss: 0.9241 - val_accuracy: 0.8100\n",
            "Epoch 8/20\n",
            "16/16 [==============================] - 1s 41ms/step - loss: 0.3692 - accuracy: 0.9208 - val_loss: 0.9209 - val_accuracy: 0.8150\n",
            "Epoch 9/20\n",
            "16/16 [==============================] - 1s 41ms/step - loss: 0.3035 - accuracy: 0.9335 - val_loss: 0.9288 - val_accuracy: 0.8160\n",
            "Epoch 10/20\n",
            "16/16 [==============================] - 1s 42ms/step - loss: 0.2573 - accuracy: 0.9411 - val_loss: 0.9220 - val_accuracy: 0.8140\n",
            "Epoch 11/20\n",
            "16/16 [==============================] - 1s 42ms/step - loss: 0.2259 - accuracy: 0.9473 - val_loss: 0.9485 - val_accuracy: 0.8110\n",
            "Epoch 12/20\n",
            "16/16 [==============================] - 1s 41ms/step - loss: 0.1923 - accuracy: 0.9515 - val_loss: 0.9662 - val_accuracy: 0.8150\n",
            "Epoch 13/20\n",
            "16/16 [==============================] - 1s 41ms/step - loss: 0.1730 - accuracy: 0.9523 - val_loss: 0.9968 - val_accuracy: 0.8190\n",
            "Epoch 14/20\n",
            "16/16 [==============================] - 1s 41ms/step - loss: 0.1581 - accuracy: 0.9555 - val_loss: 0.9805 - val_accuracy: 0.8130\n",
            "Epoch 15/20\n",
            "16/16 [==============================] - 1s 42ms/step - loss: 0.1426 - accuracy: 0.9560 - val_loss: 1.0164 - val_accuracy: 0.8070\n",
            "Epoch 16/20\n",
            "16/16 [==============================] - 1s 42ms/step - loss: 0.1318 - accuracy: 0.9573 - val_loss: 1.0458 - val_accuracy: 0.8200\n",
            "Epoch 17/20\n",
            "16/16 [==============================] - 1s 41ms/step - loss: 0.1280 - accuracy: 0.9593 - val_loss: 1.1700 - val_accuracy: 0.7890\n",
            "Epoch 18/20\n",
            "16/16 [==============================] - 1s 41ms/step - loss: 0.1227 - accuracy: 0.9567 - val_loss: 1.0630 - val_accuracy: 0.8180\n",
            "Epoch 19/20\n",
            "16/16 [==============================] - 1s 41ms/step - loss: 0.1167 - accuracy: 0.9580 - val_loss: 1.0754 - val_accuracy: 0.8140\n",
            "Epoch 20/20\n",
            "16/16 [==============================] - 1s 40ms/step - loss: 0.1143 - accuracy: 0.9569 - val_loss: 1.0770 - val_accuracy: 0.8100\n"
          ],
          "name": "stdout"
        }
      ]
    },
    {
      "cell_type": "code",
      "metadata": {
        "id": "FhpRO0_NTULN",
        "colab_type": "code",
        "outputId": "6dd3906f-0729-4bd3-9373-67bc9f196e19",
        "colab": {
          "base_uri": "https://localhost:8080/",
          "height": 35
        }
      },
      "source": [
        "history.history.keys()"
      ],
      "execution_count": 0,
      "outputs": [
        {
          "output_type": "execute_result",
          "data": {
            "text/plain": [
              "dict_keys(['loss', 'accuracy', 'val_loss', 'val_accuracy'])"
            ]
          },
          "metadata": {
            "tags": []
          },
          "execution_count": 57
        }
      ]
    },
    {
      "cell_type": "code",
      "metadata": {
        "id": "Heuz0Q2GTNoy",
        "colab_type": "code",
        "outputId": "5aaf37e0-3b21-4d31-de15-33244def0a90",
        "colab": {
          "base_uri": "https://localhost:8080/",
          "height": 295
        }
      },
      "source": [
        "# plotting loss\n",
        "import matplotlib.pyplot as plt\n",
        "loss = history.history['loss']\n",
        "val_loss = history.history['val_loss']\n",
        "epochs = range(1, len(loss) + 1)\n",
        "plt.plot(epochs, loss, 'bo', label='Training loss')\n",
        "plt.plot(epochs, val_loss, 'b', label='Validation loss')\n",
        "plt.title('Training and validation loss')\n",
        "plt.xlabel('Epochs')\n",
        "plt.ylabel('Loss')\n",
        "plt.legend()\n",
        "plt.show()"
      ],
      "execution_count": 0,
      "outputs": [
        {
          "output_type": "display_data",
          "data": {
            "image/png": "[encoded data removed]",
            "text/plain": [
              "<Figure size 432x288 with 1 Axes>"
            ]
          },
          "metadata": {
            "tags": [],
            "needs_background": "light"
          }
        }
      ]
    },
    {
      "cell_type": "code",
      "metadata": {
        "id": "l_ckLqFdTbTA",
        "colab_type": "code",
        "outputId": "9bb66d9a-28f9-4189-bf7b-3db429fee45e",
        "colab": {
          "base_uri": "https://localhost:8080/",
          "height": 295
        }
      },
      "source": [
        "# plotting accuracy\n",
        "plt.clf()\n",
        "acc = history.history['accuracy']\n",
        "val_acc = history.history['val_accuracy']\n",
        "plt.plot(epochs, acc, 'bo', label='Training acc')\n",
        "plt.plot(epochs, val_acc, 'b', label='Validation acc')\n",
        "plt.title('Training and validation accuracy')\n",
        "plt.xlabel('Epochs')\n",
        "plt.ylabel('Loss')\n",
        "plt.legend()\n",
        "plt.show()"
      ],
      "execution_count": 0,
      "outputs": [
        {
          "output_type": "display_data",
          "data": {
            "image/png": "[encoded data removed]",
            "text/plain": [
              "<Figure size 432x288 with 1 Axes>"
            ]
          },
          "metadata": {
            "tags": [],
            "needs_background": "light"
          }
        }
      ]
    },
    {
      "cell_type": "markdown",
      "metadata": {
        "id": "ljxyKtmlTwgI",
        "colab_type": "text"
      },
      "source": [
        "The network begins to overfit after nine epochs. Let’s train a new network from\n",
        "scratch for nine epochs and then evaluate it on the test set."
      ]
    },
    {
      "cell_type": "code",
      "metadata": {
        "id": "W9aUp3IaTkmi",
        "colab_type": "code",
        "outputId": "a1867084-5e98-4111-93e7-c3a9b8516f88",
        "colab": {
          "base_uri": "https://localhost:8080/",
          "height": 386
        }
      },
      "source": [
        "model = models.Sequential()\n",
        "model.add(layers.Dense(64, activation='relu', input_shape=(10000,)))\n",
        "model.add(layers.Dense(64, activation='relu'))\n",
        "model.add(layers.Dense(46, activation='softmax'))\n",
        "model.compile(optimizer='rmsprop',\n",
        "              loss='categorical_crossentropy',\n",
        "              metrics=['accuracy'])\n",
        "model.fit(partial_x_train,\n",
        "          partial_y_train,\n",
        "          epochs=9,\n",
        "          batch_size=512,\n",
        "          validation_data=(x_val, y_val))\n",
        "results = model.evaluate(x_test, one_hot_test_labels)"
      ],
      "execution_count": 0,
      "outputs": [
        {
          "output_type": "stream",
          "text": [
            "Epoch 1/9\n",
            "16/16 [==============================] - 1s 45ms/step - loss: 2.5259 - accuracy: 0.5243 - val_loss: 1.6883 - val_accuracy: 0.6570\n",
            "Epoch 2/9\n",
            "16/16 [==============================] - 1s 41ms/step - loss: 1.3667 - accuracy: 0.7115 - val_loss: 1.2800 - val_accuracy: 0.7290\n",
            "Epoch 3/9\n",
            "16/16 [==============================] - 1s 41ms/step - loss: 1.0088 - accuracy: 0.7869 - val_loss: 1.1037 - val_accuracy: 0.7700\n",
            "Epoch 4/9\n",
            "16/16 [==============================] - 1s 40ms/step - loss: 0.7929 - accuracy: 0.8326 - val_loss: 1.0195 - val_accuracy: 0.7880\n",
            "Epoch 5/9\n",
            "16/16 [==============================] - 1s 41ms/step - loss: 0.6277 - accuracy: 0.8646 - val_loss: 0.9515 - val_accuracy: 0.7970\n",
            "Epoch 6/9\n",
            "16/16 [==============================] - 1s 40ms/step - loss: 0.5019 - accuracy: 0.8931 - val_loss: 0.9159 - val_accuracy: 0.8080\n",
            "Epoch 7/9\n",
            "16/16 [==============================] - 1s 40ms/step - loss: 0.4069 - accuracy: 0.9127 - val_loss: 0.8905 - val_accuracy: 0.8140\n",
            "Epoch 8/9\n",
            "16/16 [==============================] - 1s 41ms/step - loss: 0.3294 - accuracy: 0.9308 - val_loss: 0.9247 - val_accuracy: 0.8070\n",
            "Epoch 9/9\n",
            "16/16 [==============================] - 1s 40ms/step - loss: 0.2782 - accuracy: 0.9386 - val_loss: 0.8969 - val_accuracy: 0.8150\n",
            "71/71 [==============================] - 0s 2ms/step - loss: 1.0272 - accuracy: 0.7818\n"
          ],
          "name": "stdout"
        }
      ]
    },
    {
      "cell_type": "code",
      "metadata": {
        "id": "rSH_Z7eZT4AE",
        "colab_type": "code",
        "outputId": "7269a838-77c3-4a5d-94a7-c3b21920897d",
        "colab": {
          "base_uri": "https://localhost:8080/",
          "height": 35
        }
      },
      "source": [
        "results"
      ],
      "execution_count": 0,
      "outputs": [
        {
          "output_type": "execute_result",
          "data": {
            "text/plain": [
              "[1.0271613597869873, 0.7818343639373779]"
            ]
          },
          "metadata": {
            "tags": []
          },
          "execution_count": 61
        }
      ]
    },
    {
      "cell_type": "markdown",
      "metadata": {
        "id": "4qnkIaizUa6K",
        "colab_type": "text"
      },
      "source": [
        "This approach reaches an accuracy of ~80%. With a balanced binary classification\n",
        "problem, the accuracy reached by a purely random classifier would be 50%. But in\n",
        "this case it’s closer to 19%, so the results seem pretty good, at least when compared to a random baseline:"
      ]
    },
    {
      "cell_type": "code",
      "metadata": {
        "id": "79sXTTtTUB3R",
        "colab_type": "code",
        "outputId": "27747f2d-c855-43f0-b515-2b777d898c36",
        "colab": {
          "base_uri": "https://localhost:8080/",
          "height": 35
        }
      },
      "source": [
        "import copy\n",
        "test_labels_copy = copy.copy(test_labels)\n",
        "np.random.shuffle(test_labels_copy)\n",
        "hits_array = np.array(test_labels) == np.array(test_labels_copy)\n",
        "float(np.sum(hits_array)) / len(test_labels)"
      ],
      "execution_count": 0,
      "outputs": [
        {
          "output_type": "execute_result",
          "data": {
            "text/plain": [
              "0.18432769367764915"
            ]
          },
          "metadata": {
            "tags": []
          },
          "execution_count": 62
        }
      ]
    },
    {
      "cell_type": "markdown",
      "metadata": {
        "id": "i0tv1rW1Uwwy",
        "colab_type": "text"
      },
      "source": [
        "### 3.5.5 Generating predictions on new data\n"
      ]
    },
    {
      "cell_type": "code",
      "metadata": {
        "id": "KIPzr6doUH1q",
        "colab_type": "code",
        "outputId": "92275441-47c3-44a0-c452-4634e298ca74",
        "colab": {
          "base_uri": "https://localhost:8080/",
          "height": 72
        }
      },
      "source": [
        "predictions = model.predict(x_test)\n",
        "print(predictions[0].shape)  # Each entry in predictions is a vector of length 46\n",
        "print(np.sum(predictions[0]))  # The coefficients in this vector sum to 1\n",
        "print(np.argmax(predictions[0]))  # the class with the highest probability"
      ],
      "execution_count": 0,
      "outputs": [
        {
          "output_type": "stream",
          "text": [
            "(46,)\n",
            "0.9999999\n",
            "3\n"
          ],
          "name": "stdout"
        }
      ]
    },
    {
      "cell_type": "markdown",
      "metadata": {
        "id": "v3vW4oOmVb7r",
        "colab_type": "text"
      },
      "source": [
        "### 3.5.6 A different way to handle the labels and the loss\n",
        "We mentioned earlier that another way to encode the labels would be to cast them as an integer tensor, like this:\n",
        "```Python\n",
        "y_train = np.array(train_labels)\n",
        "y_test = np.array(test_labels)\n",
        "```\n",
        "The only thing this approach would change is the choice of the loss function. The loss function used in listing 3.21, categorical_crossentropy, expects the labels to follow a categorical encoding. With integer labels, you should use sparse_categorical_crossentropy:\n",
        "```Python\n",
        "model.compile(optimizer='rmsprop',\n",
        "                loss='sparse_categorical_crossentropy',\n",
        "                metrics=['acc'])\n",
        "```\n",
        "This new loss function is still mathematically the same as categorical_crossentropy;\n",
        "it just has a different interface."
      ]
    },
    {
      "cell_type": "markdown",
      "metadata": {
        "id": "ojniBl5JH7r8",
        "colab_type": "text"
      },
      "source": [
        "### 3.5.7 The importance of having sufficiently large intermediate layers\n",
        "We mentioned earlier that because the final outputs are 46-dimensional, you should avoid intermediate layers with many fewer than 46 hidden units. Now let’s see what happens when you introduce an information bottleneck by having intermediate layers that are significantly less than 46-dimensional: for example, 4-dimensional."
      ]
    },
    {
      "cell_type": "code",
      "metadata": {
        "id": "KaQMi1NOIGKM",
        "colab_type": "code",
        "outputId": "576f8716-9e6a-4588-f831-ba02e42a45d1",
        "colab": {
          "base_uri": "https://localhost:8080/",
          "height": 790
        }
      },
      "source": [
        "model = models.Sequential()\n",
        "model.add(layers.Dense(64, activation='relu', input_shape=(10000,)))\n",
        "model.add(layers.Dense(4, activation='relu'))\n",
        "model.add(layers.Dense(46, activation='softmax'))\n",
        "model.compile(optimizer='rmsprop',\n",
        "              loss='categorical_crossentropy',\n",
        "              metrics=['accuracy'])\n",
        "model.fit(partial_x_train,\n",
        "          partial_y_train,\n",
        "          epochs=20,\n",
        "          batch_size=128,\n",
        "          validation_data=(x_val, y_val))"
      ],
      "execution_count": 0,
      "outputs": [
        {
          "output_type": "stream",
          "text": [
            "Epoch 1/20\n",
            "63/63 [==============================] - 1s 15ms/step - loss: 3.0636 - accuracy: 0.2289 - val_loss: 2.2262 - val_accuracy: 0.5890\n",
            "Epoch 2/20\n",
            "63/63 [==============================] - 1s 14ms/step - loss: 1.7328 - accuracy: 0.6094 - val_loss: 1.5524 - val_accuracy: 0.6200\n",
            "Epoch 3/20\n",
            "63/63 [==============================] - 1s 14ms/step - loss: 1.3304 - accuracy: 0.6438 - val_loss: 1.4058 - val_accuracy: 0.6600\n",
            "Epoch 4/20\n",
            "63/63 [==============================] - 1s 14ms/step - loss: 1.1364 - accuracy: 0.7189 - val_loss: 1.3228 - val_accuracy: 0.6980\n",
            "Epoch 5/20\n",
            "63/63 [==============================] - 1s 14ms/step - loss: 0.9971 - accuracy: 0.7560 - val_loss: 1.3019 - val_accuracy: 0.7040\n",
            "Epoch 6/20\n",
            "63/63 [==============================] - 1s 14ms/step - loss: 0.9063 - accuracy: 0.7759 - val_loss: 1.2839 - val_accuracy: 0.7100\n",
            "Epoch 7/20\n",
            "63/63 [==============================] - 1s 14ms/step - loss: 0.8302 - accuracy: 0.7922 - val_loss: 1.3137 - val_accuracy: 0.7140\n",
            "Epoch 8/20\n",
            "63/63 [==============================] - 1s 14ms/step - loss: 0.7622 - accuracy: 0.8082 - val_loss: 1.3308 - val_accuracy: 0.7090\n",
            "Epoch 9/20\n",
            "63/63 [==============================] - 1s 14ms/step - loss: 0.7081 - accuracy: 0.8165 - val_loss: 1.3637 - val_accuracy: 0.7150\n",
            "Epoch 10/20\n",
            "63/63 [==============================] - 1s 14ms/step - loss: 0.6618 - accuracy: 0.8260 - val_loss: 1.3804 - val_accuracy: 0.7150\n",
            "Epoch 11/20\n",
            "63/63 [==============================] - 1s 14ms/step - loss: 0.6230 - accuracy: 0.8386 - val_loss: 1.4006 - val_accuracy: 0.7180\n",
            "Epoch 12/20\n",
            "63/63 [==============================] - 1s 14ms/step - loss: 0.5844 - accuracy: 0.8459 - val_loss: 1.4911 - val_accuracy: 0.7130\n",
            "Epoch 13/20\n",
            "63/63 [==============================] - 1s 15ms/step - loss: 0.5528 - accuracy: 0.8507 - val_loss: 1.4817 - val_accuracy: 0.7090\n",
            "Epoch 14/20\n",
            "63/63 [==============================] - 1s 14ms/step - loss: 0.5235 - accuracy: 0.8525 - val_loss: 1.5726 - val_accuracy: 0.7050\n",
            "Epoch 15/20\n",
            "63/63 [==============================] - 1s 14ms/step - loss: 0.4989 - accuracy: 0.8550 - val_loss: 1.5944 - val_accuracy: 0.7120\n",
            "Epoch 16/20\n",
            "63/63 [==============================] - 1s 14ms/step - loss: 0.4816 - accuracy: 0.8577 - val_loss: 1.5922 - val_accuracy: 0.7160\n",
            "Epoch 17/20\n",
            "63/63 [==============================] - 1s 14ms/step - loss: 0.4640 - accuracy: 0.8657 - val_loss: 1.6645 - val_accuracy: 0.7100\n",
            "Epoch 18/20\n",
            "63/63 [==============================] - 1s 14ms/step - loss: 0.4478 - accuracy: 0.8695 - val_loss: 1.7111 - val_accuracy: 0.7060\n",
            "Epoch 19/20\n",
            "63/63 [==============================] - 1s 15ms/step - loss: 0.4316 - accuracy: 0.8752 - val_loss: 1.7614 - val_accuracy: 0.7060\n",
            "Epoch 20/20\n",
            "63/63 [==============================] - 1s 14ms/step - loss: 0.4182 - accuracy: 0.8785 - val_loss: 1.8302 - val_accuracy: 0.7070\n"
          ],
          "name": "stdout"
        },
        {
          "output_type": "execute_result",
          "data": {
            "text/plain": [
              "<tensorflow.python.keras.callbacks.History at 0x7f20432a3198>"
            ]
          },
          "metadata": {
            "tags": []
          },
          "execution_count": 64
        }
      ]
    },
    {
      "cell_type": "markdown",
      "metadata": {
        "id": "I6G7nuj1IQHT",
        "colab_type": "text"
      },
      "source": [
        "The network now peaks at ~71% validation accuracy, an 8% absolute drop. This drop is mostly due to the fact that you’re trying to compress a lot of information (enough information to recover the separation hyperplanes of 46 classes) into an intermediate space that is too low-dimensional. The network is able to cram most of the necessary information into these eight-dimensional representations, but not all of it."
      ]
    },
    {
      "cell_type": "markdown",
      "metadata": {
        "id": "NmxFzd9KIUff",
        "colab_type": "text"
      },
      "source": [
        "### 3.5.8 Further experiments\n",
        "* Try using larger or smaller layers: 32 units, 128 units, and so on.\n",
        "* You used two hidden layers. Now try using a single hidden layer, or three hidden layers."
      ]
    },
    {
      "cell_type": "markdown",
      "metadata": {
        "id": "O6stxYrUIckk",
        "colab_type": "text"
      },
      "source": [
        "### 3.5.9 Wrapping up\n",
        "Here’s what you should take away from this example:\n",
        "* If you’re trying to classify data points among N classes, your network should end with a Dense layer of size N.\n",
        "* In a single-label, multiclass classification problem, your network should end\n",
        "with a softmax activation so that it will output a probability distribution over the N output classes.\n",
        "* Categorical crossentropy is almost always the loss function you should use for\n",
        "such problems. It minimizes the distance between the probability distributions\n",
        "output by the network and the true distribution of the targets.\n",
        "* There are two ways to handle labels in multiclass classification:\n",
        "    * Encoding the labels via categorical encoding (also known as one-hot encoding) and using categorical_crossentropy as a loss function\n",
        "    * Encoding the labels as integers and using the sparse_categorical_crossentropy loss function\n",
        "* If you need to classify data into a large number of categories, you should avoid creating information bottlenecks in your network due to intermediate layers that are too small."
      ]
    },
    {
      "cell_type": "markdown",
      "metadata": {
        "id": "-AuLAEk0ZWXh",
        "colab_type": "text"
      },
      "source": [
        "## 3.6: Predicting house prices: a regression example\n",
        "The two previous examples were considered classification problems, where the goal was to predict a single discrete label of an input data point. Another common type of machine-learning problem is regression, which consists of predicting a continuous value instead of a discrete label: for instance, predicting the temperature tomorrow, given meteorological data; or predicting the time that a software project will take to complete, given its specifications."
      ]
    },
    {
      "cell_type": "code",
      "metadata": {
        "id": "Ws8qULgacSDo",
        "colab_type": "code",
        "outputId": "ba9719e1-3f0d-4379-a9d7-ee69ad24c461",
        "colab": {
          "base_uri": "https://localhost:8080/",
          "height": 54
        }
      },
      "source": [
        "from tensorflow.keras.datasets import boston_housing\n",
        "(train_data, train_targets), (test_data, test_targets) = boston_housing.load_data()"
      ],
      "execution_count": 0,
      "outputs": [
        {
          "output_type": "stream",
          "text": [
            "Downloading data from https://storage.googleapis.com/tensorflow/tf-keras-datasets/boston_housing.npz\n",
            "57344/57026 [==============================] - 0s 0us/step\n"
          ],
          "name": "stdout"
        }
      ]
    },
    {
      "cell_type": "code",
      "metadata": {
        "id": "h2UGLcXKeCH_",
        "colab_type": "code",
        "outputId": "c2cf22e7-44f0-429b-d496-464c537b072b",
        "colab": {
          "base_uri": "https://localhost:8080/",
          "height": 90
        }
      },
      "source": [
        "print(f\"train_data.shape - {train_data.shape}\")\n",
        "print(f\"train_targets.shape - {train_targets.shape}\")\n",
        "print(f\"test_data.shape - {test_data.shape}\")\n",
        "print(f\"test_targets.shape - {test_targets.shape}\")"
      ],
      "execution_count": 0,
      "outputs": [
        {
          "output_type": "stream",
          "text": [
            "train_data.shape - (404, 13)\n",
            "train_targets.shape - (404,)\n",
            "test_data.shape - (102, 13)\n",
            "test_targets.shape - (102,)\n"
          ],
          "name": "stdout"
        }
      ]
    },
    {
      "cell_type": "markdown",
      "metadata": {
        "id": "Fl-LgNFEgm2M",
        "colab_type": "text"
      },
      "source": [
        "### 3.6.2 Preparing Data\n",
        "It would be problematic to feed into a neural network values that all take wildly different ranges. The network might be able to automatically adapt to such heterogeneous data, but it would definitely make learning more difficult. A widespread best practice to deal with such data is to do ***feature-wise normalization***: for each feature in the input data (a column in the input data matrix), you subtract the mean of the feature and divide by the standard deviation, so that the feature is centered around 0 and has a unit standard deviation. This is easily done in Numpy."
      ]
    },
    {
      "cell_type": "code",
      "metadata": {
        "id": "DL6tl6yLeLZP",
        "colab_type": "code",
        "colab": {}
      },
      "source": [
        "# normalizing the data\n",
        "mean = train_data.mean(axis=0)\n",
        "train_data -= mean\n",
        "std = train_data.std(axis=0)\n",
        "train_data /= std\n",
        "test_data -= mean\n",
        "test_data /= std"
      ],
      "execution_count": 0,
      "outputs": []
    },
    {
      "cell_type": "markdown",
      "metadata": {
        "id": "PJjtHUVoipS3",
        "colab_type": "text"
      },
      "source": [
        "### 3.6.3 Network Building\n",
        "Because so few samples are available, you’ll use a very small network with two hidden layers, each with 64 units. In general, the less training data you have, the worse overfitting will be, and using a small network is one way to mitigate overfitting."
      ]
    },
    {
      "cell_type": "code",
      "metadata": {
        "id": "VjKZhshPebnD",
        "colab_type": "code",
        "colab": {}
      },
      "source": [
        "def build_model():\n",
        "    model = models.Sequential()\n",
        "    model.add(layers.Dense(64, activation='relu',\n",
        "                           input_shape=(train_data.shape[1],)))\n",
        "    model.add(layers.Dense(64, activation='relu'))\n",
        "    model.add(layers.Dense(1))\n",
        "    model.compile(optimizer='rmsprop', loss='mse', metrics=['mae'])\n",
        "    return model"
      ],
      "execution_count": 0,
      "outputs": []
    },
    {
      "cell_type": "markdown",
      "metadata": {
        "id": "VfwUkuOR3rQr",
        "colab_type": "text"
      },
      "source": [
        "The network ends with a single unit and no activation (it will be a linear layer). This is a typical setup for scalar regression (a regression where you’re trying to predict a single continuous value). Applying an activation function would constrain the range the output can take; for instance, if you applied a sigmoid activation function to the last layer, the network could only learn to predict values between 0 and 1. Here, because the last layer is purely linear, the network is free to learn to predict values in any range. <br>\n",
        "Note that you compile the network with the mse loss function—mean squared error,\n",
        "the square of the difference between the predictions and the targets. This is a widely used loss function for regression problems. <br>\n",
        "You’re also monitoring a new metric during training: mean absolute error (MAE). It’s the absolute value of the difference between the predictions and the targets. For instance, an MAE of 0.5 on this problem would mean your predictions are off by $500 on average."
      ]
    },
    {
      "cell_type": "markdown",
      "metadata": {
        "id": "x3lVGjiK4NfK",
        "colab_type": "text"
      },
      "source": [
        "### 3.6.4 Validating approach - K-fold cross validation\n",
        "To evaluate your network while you keep adjusting its parameters (such as the number of epochs used for training), you could split the data into a training set and a validation set, as you did in the previous examples. But because you have so few data points, the validation set would end up being very small (for instance, about 100 examples). <br>\n",
        "As a consequence, the validation scores might change a lot depending on which data points you chose to use for validation and which you chose for training: the validation scores might have a high variance with regard to the validation split. This would prevent you from reliably evaluating your model. <br>\n",
        "The best practice in such situations is to use K-fold cross-validation.\n",
        "It consists of splitting the available data into K partitions (typically K = 4 or 5), instantiating K identical models, and training each one on K – 1 partitions while evaluating on the remaining partition. The validation score for the model used is then the average of the K validation scores obtained. "
      ]
    },
    {
      "cell_type": "code",
      "metadata": {
        "id": "XvTZ06IA2_67",
        "colab_type": "code",
        "colab": {}
      },
      "source": [
        "# k-fold Validation\n",
        "import numpy as np\n",
        "k = 4\n",
        "num_val_samples = len(train_data) // k\n",
        "num_epochs = 100\n",
        "all_scores = []\n"
      ],
      "execution_count": 0,
      "outputs": []
    },
    {
      "cell_type": "code",
      "metadata": {
        "id": "H8g4OY2W6bas",
        "colab_type": "code",
        "outputId": "7ad4c0cd-e99a-4a5d-f545-019e1b3489e7",
        "colab": {
          "base_uri": "https://localhost:8080/",
          "height": 90
        }
      },
      "source": [
        "for i in range(k):\n",
        "    print('processing fold #', i)\n",
        "    val_data = train_data[i * num_val_samples: (i + 1) * num_val_samples]\n",
        "    val_targets = train_targets[i * num_val_samples: (i + 1) * num_val_samples]\n",
        "    partial_train_data = np.concatenate([train_data[:i * num_val_samples],\n",
        "                                        train_data[(i + 1) * num_val_samples:]],\n",
        "                                        axis=0)\n",
        "    partial_train_targets = np.concatenate([train_targets[:i * num_val_samples],\n",
        "                                            train_targets[(i + 1) * num_val_samples:]],\n",
        "                                               axis=0)\n",
        "    model = build_model()  # builds already compiled Keras model\n",
        "    model.fit(partial_train_data, partial_train_targets,\n",
        "              epochs=num_epochs, batch_size=1, verbose=0) # verbose=0, silent training\n",
        "    val_mse, val_mae = model.evaluate(val_data, val_targets, verbose=0) # executes model on validation data\n",
        "    all_scores.append(val_mae)"
      ],
      "execution_count": 0,
      "outputs": [
        {
          "output_type": "stream",
          "text": [
            "processing fold # 0\n",
            "processing fold # 1\n",
            "processing fold # 2\n",
            "processing fold # 3\n"
          ],
          "name": "stdout"
        }
      ]
    },
    {
      "cell_type": "code",
      "metadata": {
        "id": "2vzQTWq36whP",
        "colab_type": "code",
        "outputId": "d1e0449f-193b-4d13-d894-ce3f251bf86f",
        "colab": {
          "base_uri": "https://localhost:8080/",
          "height": 54
        }
      },
      "source": [
        "print(all_scores)\n",
        "print(np.mean(all_scores))"
      ],
      "execution_count": 0,
      "outputs": [
        {
          "output_type": "stream",
          "text": [
            "[2.4295401573181152, 2.624871253967285, 2.680267572402954, 2.6609487533569336]\n",
            "2.598906934261322\n"
          ],
          "name": "stdout"
        }
      ]
    },
    {
      "cell_type": "markdown",
      "metadata": {
        "id": "S4NTHUzm9vKg",
        "colab_type": "text"
      },
      "source": [
        "The different runs do indeed show rather different validation scores, from 2.6 to 3.2. The average (3.0) is a much more reliable metric than any single score—that’s the entire point of K-fold cross-validation. In this case, you’re off by \\$3,000 on average, which is significant considering that the prices range from \\$10,000 to \\$50,000. <br>\n",
        "Let’s try training the network a bit longer: 500 epochs. To keep a record of how\n",
        "well the model does at each epoch, you’ll modify the training loop to save the perepoch validation score log."
      ]
    },
    {
      "cell_type": "code",
      "metadata": {
        "id": "zsa4AAqC9hMG",
        "colab_type": "code",
        "outputId": "9a63afaa-f96d-4076-c5fe-4030d51a25b7",
        "colab": {
          "base_uri": "https://localhost:8080/",
          "height": 90
        }
      },
      "source": [
        "num_epochs = 500\n",
        "all_mae_histories = []\n",
        "for i in range(k):\n",
        "    print('processing fold #', i)\n",
        "    val_data = train_data[i * num_val_samples: (i + 1) * num_val_samples]\n",
        "    val_targets = train_targets[i * num_val_samples: (i + 1) * num_val_samples]\n",
        "    partial_train_data = np.concatenate(\n",
        "            [train_data[:i * num_val_samples],\n",
        "             train_data[(i + 1) * num_val_samples:]],\n",
        "             axis=0)\n",
        "    partial_train_targets = np.concatenate(\n",
        "        [train_targets[:i * num_val_samples],\n",
        "         train_targets[(i + 1) * num_val_samples:]],\n",
        "         axis=0)\n",
        "    model = build_model()\n",
        "    history = model.fit(partial_train_data, partial_train_targets,\n",
        "                        validation_data=(val_data, val_targets),\n",
        "                        epochs=num_epochs, batch_size=1, verbose=0)\n",
        "    mae_history = history.history['val_mae']\n",
        "    all_mae_histories.append(mae_history)"
      ],
      "execution_count": 0,
      "outputs": [
        {
          "output_type": "stream",
          "text": [
            "processing fold # 0\n",
            "processing fold # 1\n",
            "processing fold # 2\n",
            "processing fold # 3\n"
          ],
          "name": "stdout"
        }
      ]
    },
    {
      "cell_type": "code",
      "metadata": {
        "id": "CsXu9bAv-XCR",
        "colab_type": "code",
        "outputId": "55c4ce2d-3a1f-4546-8fe9-71bfb369e060",
        "colab": {
          "base_uri": "https://localhost:8080/",
          "height": 164
        }
      },
      "source": [
        "all_mae_histories = np.array(all_mae_histories)\n",
        "means = np.mean(all_mae_histories, axis=1)\n",
        "print(f\"all_mae_histories.shape - {all_mae_histories.shape}\")\n",
        "print(f\"all_mae_histories - {all_mae_histories}\")\n",
        "print(f\"Folds mean - {means}\")\n",
        "print(f\"Mean - {np.mean(means)}\")\n",
        "print(f\"min mean - {min(means)} max mean - {max(means)}\")"
      ],
      "execution_count": 0,
      "outputs": [
        {
          "output_type": "stream",
          "text": [
            "all_mae_histories.shape - (4, 500)\n",
            "all_mae_histories - [[3.42804313 2.99626517 2.74303174 ... 2.9372735  2.63028169 2.59671378]\n",
            " [3.98504734 3.42295146 2.90244794 ... 2.85812044 2.90317678 2.9237082 ]\n",
            " [4.25505924 3.47846103 2.95104766 ... 2.6506505  2.77888846 2.78795624]\n",
            " [5.8587575  4.39013004 3.57936478 ... 2.58881545 2.3849194  2.46267104]]\n",
            "Folds mean - [2.52431315 2.75878005 2.66234418 2.60975883]\n",
            "Mean - 2.6387990544438362\n",
            "min mean - 2.5243131511211394 max mean - 2.758780049800873\n"
          ],
          "name": "stdout"
        }
      ]
    },
    {
      "cell_type": "markdown",
      "metadata": {
        "id": "oZzT1EawEr2z",
        "colab_type": "text"
      },
      "source": [
        "You can then compute the average of the per-epoch MAE scores for all folds."
      ]
    },
    {
      "cell_type": "code",
      "metadata": {
        "id": "jix0bjUd_D6g",
        "colab_type": "code",
        "outputId": "f038df40-2b14-4194-bec7-637955724096",
        "colab": {
          "base_uri": "https://localhost:8080/",
          "height": 55
        }
      },
      "source": [
        "# building history of successive mean K-fold validation scores\n",
        "average_mae_history = [np.mean([x[i] for x in all_mae_histories]) for i in range(num_epochs)]\n",
        "print(average_mae_history)"
      ],
      "execution_count": 0,
      "outputs": [
        {
          "output_type": "stream",
          "text": [
            "[4.381726801395416, 3.571951925754547, 3.0439730286598206, 2.956299662590027, 2.7996751070022583, 2.8159831762313843, 2.722850501537323, 2.596835434436798, 2.582529067993164, 2.613962471485138, 2.4490526914596558, 2.5692070722579956, 2.492866635322571, 2.4477294087409973, 2.4394072890281677, 2.3844765722751617, 2.390357881784439, 2.444999635219574, 2.399007737636566, 2.4929022192955017, 2.367390513420105, 2.3354972898960114, 2.4133913218975067, 2.372075915336609, 2.4502455592155457, 2.497211754322052, 2.406658411026001, 2.2699044346809387, 2.4189616441726685, 2.3015234172344208, 2.2936081290245056, 2.3664762377738953, 2.300524652004242, 2.375088334083557, 2.3062363862991333, 2.2821010053157806, 2.287057012319565, 2.2911176085472107, 2.3008234202861786, 2.338841438293457, 2.378071427345276, 2.42635715007782, 2.375572443008423, 2.3753488659858704, 2.3118168115615845, 2.250074952840805, 2.4365915060043335, 2.220617264509201, 2.2544577717781067, 2.336818188428879, 2.304809182882309, 2.2988736629486084, 2.4111891984939575, 2.2307170629501343, 2.3151674270629883, 2.349645286798477, 2.319516360759735, 2.3445191979408264, 2.2820208072662354, 2.318769186735153, 2.365642249584198, 2.327938199043274, 2.2464420199394226, 2.4087966084480286, 2.192548483610153, 2.4105973839759827, 2.276250958442688, 2.289705276489258, 2.4510180950164795, 2.4727014303207397, 2.2843793630599976, 2.3744353652000427, 2.4461860060691833, 2.2480745911598206, 2.3640506863594055, 2.4588210582733154, 2.442150115966797, 2.3317278623580933, 2.4071130752563477, 2.4170777797698975, 2.39027738571167, 2.374099373817444, 2.337750494480133, 2.394063174724579, 2.431320011615753, 2.437268853187561, 2.4368423223495483, 2.372428834438324, 2.3907023668289185, 2.4903842210769653, 2.3990758061408997, 2.5120091438293457, 2.4920305609703064, 2.404559075832367, 2.442485749721527, 2.3414902091026306, 2.434098720550537, 2.694408357143402, 2.4952200055122375, 2.444643259048462, 2.492449164390564, 2.4475014209747314, 2.3008029460906982, 2.6136606335639954, 2.430915594100952, 2.6177544593811035, 2.4987088441848755, 2.43316388130188, 2.4567978382110596, 2.3599716424942017, 2.442091464996338, 2.3706856966018677, 2.4724504947662354, 2.708570182323456, 2.440027594566345, 2.4288503527641296, 2.5042800903320312, 2.5759050250053406, 2.5279112458229065, 2.4668833017349243, 2.504633903503418, 2.5853782296180725, 2.504601001739502, 2.5117151141166687, 2.4575560688972473, 2.4544939398765564, 2.5394251942634583, 2.427653968334198, 2.5268580317497253, 2.424717664718628, 2.6422334909439087, 2.502330720424652, 2.5085015296936035, 2.4717183113098145, 2.539088726043701, 2.545429766178131, 2.762607514858246, 2.584248721599579, 2.589073419570923, 2.514355421066284, 2.7365602850914, 2.5277225375175476, 2.5284215807914734, 2.4249536991119385, 2.4518224596977234, 2.655133843421936, 2.5721331238746643, 2.545863926410675, 2.5659815669059753, 2.4225985407829285, 2.5014848113059998, 2.5276705026626587, 2.6286596059799194, 2.54178923368454, 2.702789008617401, 2.528686285018921, 2.6077874302864075, 2.500752329826355, 2.6030766367912292, 2.5591002106666565, 2.5694987177848816, 2.6605326533317566, 2.495049238204956, 2.602940082550049, 2.5129021406173706, 2.6610254049301147, 2.7625482082366943, 2.525986135005951, 2.5649023056030273, 2.6161131262779236, 2.555697441101074, 2.6403620839118958, 2.6262152791023254, 2.583012819290161, 2.5548245906829834, 2.604847252368927, 2.5984346866607666, 2.540215313434601, 2.5703300833702087, 2.649341881275177, 2.6294087171554565, 2.704573333263397, 2.5784131288528442, 2.6323205828666687, 2.597848117351532, 2.648742198944092, 2.6779732704162598, 2.5244752168655396, 2.5396889448165894, 2.691867411136627, 2.6195486187934875, 2.7267931699752808, 2.6566355228424072, 2.664896249771118, 2.6938536167144775, 2.6638516187667847, 2.641068994998932, 2.612131178379059, 2.7399390935897827, 2.681193768978119, 2.5489420890808105, 2.519998550415039, 2.6972424387931824, 2.77449369430542, 2.6208385825157166, 2.6232830286026, 2.6833655834198, 2.584632396697998, 2.58612859249115, 2.7312841415405273, 2.673616349697113, 2.7794149518013, 2.7542606592178345, 2.661087691783905, 2.64506459236145, 2.756808638572693, 2.616192579269409, 2.595119595527649, 2.8061866760253906, 2.666546106338501, 2.656066596508026, 2.766462206840515, 2.5470821261405945, 2.8024699091911316, 2.674650013446808, 2.6923482418060303, 2.6928184628486633, 2.7576863765716553, 2.6527146697044373, 2.8788843154907227, 2.7344160676002502, 2.7208608388900757, 2.5864713191986084, 2.72991019487381, 2.747687041759491, 2.666222095489502, 2.6417911648750305, 2.5723370909690857, 2.618038058280945, 2.71460497379303, 2.6387627720832825, 2.687359869480133, 2.742719292640686, 2.7185635566711426, 2.7468531727790833, 2.686572015285492, 2.6285576820373535, 2.709249794483185, 2.8141040205955505, 2.7695992588996887, 2.815031111240387, 2.7659376859664917, 2.8673539757728577, 2.68983793258667, 2.684847116470337, 2.7062149047851562, 2.639981746673584, 2.7402533292770386, 2.7486709356307983, 2.6864842772483826, 2.681232988834381, 2.683105707168579, 2.685303270816803, 2.7194926738739014, 2.678541660308838, 2.7134470343589783, 2.7170761227607727, 2.745195686817169, 2.8022478222846985, 2.715575158596039, 2.661435842514038, 2.76405131816864, 2.7043254375457764, 2.748018443584442, 2.6042240858078003, 2.813381016254425, 2.69214528799057, 2.7498549818992615, 2.677274525165558, 2.6664122343063354, 2.763778567314148, 2.6569302678108215, 2.7516623735427856, 2.6094159483909607, 2.602456271648407, 2.674610137939453, 2.6494284868240356, 2.667411148548126, 2.642346978187561, 2.643556535243988, 2.5564099550247192, 2.7825284600257874, 2.80885773897171, 2.8254218101501465, 2.8152255415916443, 2.7309014797210693, 2.8118348717689514, 2.7300536036491394, 2.772890627384186, 2.6453343629837036, 2.7431843280792236, 2.825433135032654, 2.674853205680847, 2.6682199835777283, 2.828878939151764, 2.6345118284225464, 2.774366557598114, 2.670439302921295, 2.680121660232544, 2.733328700065613, 2.729701042175293, 2.744975984096527, 2.649219572544098, 2.7043765783309937, 2.6849513053894043, 2.6155882477760315, 2.6286056637763977, 2.7233831882476807, 2.7312201261520386, 2.7027291655540466, 2.7455005049705505, 2.713840663433075, 2.66577410697937, 2.684007942676544, 2.689566910266876, 3.004343092441559, 2.7340134978294373, 2.726103127002716, 2.7299071550369263, 2.700681447982788, 2.6582892537117004, 2.782365560531616, 2.720110297203064, 2.670501470565796, 2.6938140988349915, 2.7471866607666016, 2.729319214820862, 2.674566924571991, 2.6042877435684204, 2.6606947779655457, 2.7545514702796936, 2.797879695892334, 2.8732144236564636, 2.668565332889557, 2.7575864791870117, 2.7495893836021423, 2.7757923007011414, 2.7484195828437805, 2.7736541628837585, 2.9409061074256897, 2.7692315578460693, 2.7604435086250305, 2.717362701892853, 2.7590715885162354, 2.7750114798545837, 2.6774778366088867, 2.715048909187317, 2.703724682331085, 2.6392253637313843, 2.714588701725006, 2.826363503932953, 2.7142778635025024, 2.7681588530540466, 2.784122943878174, 2.724893808364868, 2.73577743768692, 2.771553635597229, 2.662558436393738, 2.6174994111061096, 2.672452449798584, 2.6263418197631836, 2.720795512199402, 2.698304235935211, 2.7046449780464172, 2.6854445934295654, 2.7433640360832214, 2.7970325350761414, 2.8039194345474243, 2.767114758491516, 2.701260805130005, 2.7170915603637695, 2.7175464034080505, 2.7609534859657288, 2.696069061756134, 2.708400785923004, 2.6673969626426697, 2.8495521545410156, 2.6697604060173035, 2.7548458576202393, 2.812377691268921, 2.7818249464035034, 2.747873365879059, 2.762365221977234, 2.729421377182007, 2.827930450439453, 2.7381534576416016, 2.7501590251922607, 2.683679461479187, 2.7692885398864746, 2.762236535549164, 2.750208795070648, 2.6550214290618896, 2.6716541051864624, 2.7247795462608337, 2.798164486885071, 2.878267228603363, 2.732830047607422, 2.776971757411957, 2.8076736330986023, 2.7133635878562927, 2.7038936018943787, 2.7196629643440247, 2.753356397151947, 2.7376139163970947, 2.823347330093384, 2.775835156440735, 2.784479022026062, 2.726001024246216, 2.812240481376648, 2.802085041999817, 2.804250955581665, 2.7768567204475403, 2.7218945026397705, 2.6885963678359985, 2.8685415983200073, 2.7318063378334045, 2.7721234560012817, 2.7995043992996216, 2.794943690299988, 2.852842628955841, 2.779493272304535, 2.7843343019485474, 2.7854318022727966, 2.727508783340454, 2.691358745098114, 2.786540985107422, 2.834221363067627, 2.8010026812553406, 2.7638790607452393, 2.7115013003349304, 2.792052209377289, 2.7522618174552917, 2.807488977909088, 2.645237982273102, 2.7347856163978577, 2.755142569541931, 2.754814863204956, 2.7762559056282043, 2.8076171278953552, 2.7129950523376465, 2.7075823545455933, 2.7168336510658264, 2.706690788269043, 2.8089844584465027, 2.7233935594558716, 2.7172353267669678, 2.763174057006836, 2.668130338191986, 2.8257203698158264, 2.772751033306122, 2.7492050528526306, 2.8659292459487915, 2.737830102443695, 2.729034125804901, 2.823704421520233, 2.664890766143799, 2.6809844374656677, 2.8248268961906433, 2.7537878155708313, 2.6907496452331543, 2.8076652884483337, 2.8373626470565796, 2.8032909631729126, 2.797875940799713, 2.779931664466858, 2.798964262008667, 2.8117079734802246, 2.8635215163230896, 2.7295623421669006, 2.766703248023987, 2.7290900349617004, 2.8445171117782593, 2.81525057554245, 2.69573712348938, 2.7862046360969543, 2.766528367996216, 2.7706257104873657, 2.740800440311432, 2.8040841221809387, 2.7386099696159363, 2.7612350583076477, 2.814695358276367, 2.6934122443199158, 2.763145327568054, 2.7900543808937073, 2.7082873582839966, 2.7639114260673523, 2.758714973926544, 2.6743165850639343, 2.692762315273285]\n"
          ],
          "name": "stdout"
        }
      ]
    },
    {
      "cell_type": "code",
      "metadata": {
        "id": "oXRRJooKCRV3",
        "colab_type": "code",
        "outputId": "c74cbc97-06c1-4847-d32c-3f5dbf63375d",
        "colab": {
          "base_uri": "https://localhost:8080/",
          "height": 279
        }
      },
      "source": [
        "# plotting validation scores\n",
        "plt.plot(range(1, len(average_mae_history) + 1), average_mae_history)\n",
        "plt.xlabel('Epochs')\n",
        "plt.ylabel('Validation MAE')\n",
        "plt.show()"
      ],
      "execution_count": 0,
      "outputs": [
        {
          "output_type": "display_data",
          "data": {
            "image/png": "[encoded data removed]",
            "text/plain": [
              "<Figure size 432x288 with 1 Axes>"
            ]
          },
          "metadata": {
            "tags": [],
            "needs_background": "light"
          }
        }
      ]
    },
    {
      "cell_type": "markdown",
      "metadata": {
        "id": "LAKZWy2AEyZH",
        "colab_type": "text"
      },
      "source": [
        "It may be a little difficult to see the plot, due to scaling issues and relatively high variance. Let’s do the following:\n",
        "* Omit the first 10 data points, which are on a different scale than the rest of the curve. \n",
        "* Replace each point with an exponential moving average of the previous points,\n",
        "to obtain a smooth curve."
      ]
    },
    {
      "cell_type": "code",
      "metadata": {
        "id": "xCsewaQSCkaD",
        "colab_type": "code",
        "outputId": "328a62be-141e-471f-96a7-21ec64efbc8b",
        "colab": {
          "base_uri": "https://localhost:8080/",
          "height": 279
        }
      },
      "source": [
        "# Plotting validation scores, excluding the first 10 data points\n",
        "def smooth_curve(points, factor=0.9):\n",
        "    smoothed_points = []\n",
        "    for point in points:\n",
        "        if smoothed_points:\n",
        "            previous = smoothed_points[-1]\n",
        "            smoothed_points.append(previous * factor + point * (1 - factor))\n",
        "        else:\n",
        "            smoothed_points.append(point)\n",
        "    return smoothed_points\n",
        "smooth_mae_history = smooth_curve(average_mae_history[10:])\n",
        "plt.plot(range(1, len(smooth_mae_history) + 1), smooth_mae_history)\n",
        "plt.xlabel('Epochs')\n",
        "plt.ylabel('Validation MAE')\n",
        "plt.show()"
      ],
      "execution_count": 0,
      "outputs": [
        {
          "output_type": "display_data",
          "data": {
            "image/png": "[encoded data removed]",
            "text/plain": [
              "<Figure size 432x288 with 1 Axes>"
            ]
          },
          "metadata": {
            "tags": [],
            "needs_background": "light"
          }
        }
      ]
    },
    {
      "cell_type": "markdown",
      "metadata": {
        "id": "iDqGDQ1wFhKx",
        "colab_type": "text"
      },
      "source": [
        "According to this plot, validation MAE stops improving significantly after around 80 epochs. Past that point, you start overfitting. <br>\n",
        "Once you’re finished tuning other parameters of the model (in addition to the\n",
        "number of epochs, you could also adjust the size of the hidden layers), you can train a final production model on all of the training data, with the best parameters, and then look at its performance on the test data."
      ]
    },
    {
      "cell_type": "code",
      "metadata": {
        "id": "gIkAEUNPCteZ",
        "colab_type": "code",
        "outputId": "5b9df7ee-019c-40d0-bb1e-4dafdce53b77",
        "colab": {
          "base_uri": "https://localhost:8080/",
          "height": 54
        }
      },
      "source": [
        "# training final model\n",
        "model = build_model()\n",
        "model.fit(train_data, train_targets,\n",
        "          epochs=80, batch_size=16, verbose=0)\n",
        "test_mse_score, test_mae_score = model.evaluate(test_data, test_targets)\n",
        "print(test_mae_score)"
      ],
      "execution_count": 0,
      "outputs": [
        {
          "output_type": "stream",
          "text": [
            "4/4 [==============================] - 0s 2ms/step - loss: 38.8515 - mae: 2.7172\n",
            "2.71720552444458\n"
          ],
          "name": "stdout"
        }
      ]
    },
    {
      "cell_type": "markdown",
      "metadata": {
        "id": "knJ2_KbgGMlP",
        "colab_type": "text"
      },
      "source": [
        "### 3.6.5 Wrapping up\n",
        "Here’s what you should take away from this example:\n",
        "* Regression is done using different loss functions than what we used for classification. Mean squared error (MSE) is a loss function commonly used for regression.\n",
        "* Similarly, evaluation metrics to be used for regression differ from those used for classification; naturally, the concept of accuracy doesn’t apply for regression. A common regression metric is mean absolute error (MAE).\n",
        "* When features in the input data have values in different ranges, each feature\n",
        "should be scaled independently as a preprocessing step.\n",
        "* When there is little data available, using K-fold validation is a great way to reliably evaluate a model.\n",
        "* When little training data is available, it’s preferable to use a small network with few hidden layers (typically only one or two), in order to avoid severe overfitting."
      ]
    }
  ]
}